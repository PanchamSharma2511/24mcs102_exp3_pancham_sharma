{
  "nbformat": 4,
  "nbformat_minor": 0,
  "metadata": {
    "colab": {
      "provenance": [],
      "include_colab_link": true
    },
    "kernelspec": {
      "name": "python3",
      "display_name": "Python 3"
    },
    "language_info": {
      "name": "python"
    }
  },
  "cells": [
    {
      "cell_type": "markdown",
      "metadata": {
        "id": "view-in-github",
        "colab_type": "text"
      },
      "source": [
        "<a href=\"https://colab.research.google.com/github/PanchamSharma2511/24mcs102_exp3_pancham_sharma/blob/main/24mcs102_exp4_pancham_sharma.ipynb\" target=\"_parent\"><img src=\"https://colab.research.google.com/assets/colab-badge.svg\" alt=\"Open In Colab\"/></a>"
      ]
    },
    {
      "cell_type": "code",
      "execution_count": 1,
      "metadata": {
        "colab": {
          "base_uri": "https://localhost:8080/"
        },
        "id": "rdbVC2oRFStX",
        "outputId": "e6225153-376a-4587-f836-42c0b37b216d"
      },
      "outputs": [
        {
          "output_type": "stream",
          "name": "stdout",
          "text": [
            "Requirement already satisfied: wandb in /usr/local/lib/python3.11/dist-packages (0.19.7)\n",
            "Requirement already satisfied: click!=8.0.0,>=7.1 in /usr/local/lib/python3.11/dist-packages (from wandb) (8.1.8)\n",
            "Requirement already satisfied: docker-pycreds>=0.4.0 in /usr/local/lib/python3.11/dist-packages (from wandb) (0.4.0)\n",
            "Requirement already satisfied: gitpython!=3.1.29,>=1.0.0 in /usr/local/lib/python3.11/dist-packages (from wandb) (3.1.44)\n",
            "Requirement already satisfied: platformdirs in /usr/local/lib/python3.11/dist-packages (from wandb) (4.3.6)\n",
            "Requirement already satisfied: protobuf!=4.21.0,!=5.28.0,<6,>=3.19.0 in /usr/local/lib/python3.11/dist-packages (from wandb) (4.25.6)\n",
            "Requirement already satisfied: psutil>=5.0.0 in /usr/local/lib/python3.11/dist-packages (from wandb) (5.9.5)\n",
            "Requirement already satisfied: pydantic<3,>=2.6 in /usr/local/lib/python3.11/dist-packages (from wandb) (2.10.6)\n",
            "Requirement already satisfied: pyyaml in /usr/local/lib/python3.11/dist-packages (from wandb) (6.0.2)\n",
            "Requirement already satisfied: requests<3,>=2.0.0 in /usr/local/lib/python3.11/dist-packages (from wandb) (2.32.3)\n",
            "Requirement already satisfied: sentry-sdk>=2.0.0 in /usr/local/lib/python3.11/dist-packages (from wandb) (2.22.0)\n",
            "Requirement already satisfied: setproctitle in /usr/local/lib/python3.11/dist-packages (from wandb) (1.3.5)\n",
            "Requirement already satisfied: setuptools in /usr/local/lib/python3.11/dist-packages (from wandb) (75.1.0)\n",
            "Requirement already satisfied: typing-extensions<5,>=4.4 in /usr/local/lib/python3.11/dist-packages (from wandb) (4.12.2)\n",
            "Requirement already satisfied: six>=1.4.0 in /usr/local/lib/python3.11/dist-packages (from docker-pycreds>=0.4.0->wandb) (1.17.0)\n",
            "Requirement already satisfied: gitdb<5,>=4.0.1 in /usr/local/lib/python3.11/dist-packages (from gitpython!=3.1.29,>=1.0.0->wandb) (4.0.12)\n",
            "Requirement already satisfied: annotated-types>=0.6.0 in /usr/local/lib/python3.11/dist-packages (from pydantic<3,>=2.6->wandb) (0.7.0)\n",
            "Requirement already satisfied: pydantic-core==2.27.2 in /usr/local/lib/python3.11/dist-packages (from pydantic<3,>=2.6->wandb) (2.27.2)\n",
            "Requirement already satisfied: charset-normalizer<4,>=2 in /usr/local/lib/python3.11/dist-packages (from requests<3,>=2.0.0->wandb) (3.4.1)\n",
            "Requirement already satisfied: idna<4,>=2.5 in /usr/local/lib/python3.11/dist-packages (from requests<3,>=2.0.0->wandb) (3.10)\n",
            "Requirement already satisfied: urllib3<3,>=1.21.1 in /usr/local/lib/python3.11/dist-packages (from requests<3,>=2.0.0->wandb) (2.3.0)\n",
            "Requirement already satisfied: certifi>=2017.4.17 in /usr/local/lib/python3.11/dist-packages (from requests<3,>=2.0.0->wandb) (2025.1.31)\n",
            "Requirement already satisfied: smmap<6,>=3.0.1 in /usr/local/lib/python3.11/dist-packages (from gitdb<5,>=4.0.1->gitpython!=3.1.29,>=1.0.0->wandb) (5.0.2)\n"
          ]
        }
      ],
      "source": [
        "!pip install wandb"
      ]
    },
    {
      "cell_type": "code",
      "source": [
        "import wandb"
      ],
      "metadata": {
        "id": "ExwcVB_5FeVC"
      },
      "execution_count": 2,
      "outputs": []
    },
    {
      "cell_type": "code",
      "source": [
        "wandb.login()"
      ],
      "metadata": {
        "colab": {
          "base_uri": "https://localhost:8080/",
          "height": 216
        },
        "id": "meH_HFgkFjQv",
        "outputId": "a79465d5-982a-4e9d-b350-3e6908ea79bb"
      },
      "execution_count": 3,
      "outputs": [
        {
          "output_type": "stream",
          "name": "stderr",
          "text": [
            "\u001b[34m\u001b[1mwandb\u001b[0m: Using wandb-core as the SDK backend.  Please refer to https://wandb.me/wandb-core for more information.\n"
          ]
        },
        {
          "output_type": "display_data",
          "data": {
            "text/plain": [
              "<IPython.core.display.Javascript object>"
            ],
            "application/javascript": [
              "\n",
              "        window._wandbApiKey = new Promise((resolve, reject) => {\n",
              "            function loadScript(url) {\n",
              "            return new Promise(function(resolve, reject) {\n",
              "                let newScript = document.createElement(\"script\");\n",
              "                newScript.onerror = reject;\n",
              "                newScript.onload = resolve;\n",
              "                document.body.appendChild(newScript);\n",
              "                newScript.src = url;\n",
              "            });\n",
              "            }\n",
              "            loadScript(\"https://cdn.jsdelivr.net/npm/postmate/build/postmate.min.js\").then(() => {\n",
              "            const iframe = document.createElement('iframe')\n",
              "            iframe.style.cssText = \"width:0;height:0;border:none\"\n",
              "            document.body.appendChild(iframe)\n",
              "            const handshake = new Postmate({\n",
              "                container: iframe,\n",
              "                url: 'https://wandb.ai/authorize'\n",
              "            });\n",
              "            const timeout = setTimeout(() => reject(\"Couldn't auto authenticate\"), 5000)\n",
              "            handshake.then(function(child) {\n",
              "                child.on('authorize', data => {\n",
              "                    clearTimeout(timeout)\n",
              "                    resolve(data)\n",
              "                });\n",
              "            });\n",
              "            })\n",
              "        });\n",
              "    "
            ]
          },
          "metadata": {}
        },
        {
          "output_type": "stream",
          "name": "stderr",
          "text": [
            "\u001b[34m\u001b[1mwandb\u001b[0m: Logging into wandb.ai. (Learn how to deploy a W&B server locally: https://wandb.me/wandb-server)\n",
            "\u001b[34m\u001b[1mwandb\u001b[0m: You can find your API key in your browser here: https://wandb.ai/authorize\n",
            "wandb: Paste an API key from your profile and hit enter:"
          ]
        },
        {
          "name": "stdout",
          "output_type": "stream",
          "text": [
            " ··········\n"
          ]
        },
        {
          "output_type": "stream",
          "name": "stderr",
          "text": [
            "\u001b[34m\u001b[1mwandb\u001b[0m: \u001b[33mWARNING\u001b[0m If you're specifying your api key in code, ensure this code is not shared publicly.\n",
            "\u001b[34m\u001b[1mwandb\u001b[0m: \u001b[33mWARNING\u001b[0m Consider setting the WANDB_API_KEY environment variable, or running `wandb login` from the command line.\n",
            "\u001b[34m\u001b[1mwandb\u001b[0m: No netrc file found, creating one.\n",
            "\u001b[34m\u001b[1mwandb\u001b[0m: Appending key for api.wandb.ai to your netrc file: /root/.netrc\n",
            "\u001b[34m\u001b[1mwandb\u001b[0m: Currently logged in as: \u001b[33m24mcs102\u001b[0m (\u001b[33m24mcs102-national-institute-of-technology-hamirpur\u001b[0m) to \u001b[32mhttps://api.wandb.ai\u001b[0m. Use \u001b[1m`wandb login --relogin`\u001b[0m to force relogin\n"
          ]
        },
        {
          "output_type": "execute_result",
          "data": {
            "text/plain": [
              "True"
            ]
          },
          "metadata": {},
          "execution_count": 3
        }
      ]
    },
    {
      "cell_type": "code",
      "source": [
        "wandb.finish()"
      ],
      "metadata": {
        "id": "F-KKpeb3FrGe"
      },
      "execution_count": 4,
      "outputs": []
    },
    {
      "cell_type": "code",
      "source": [
        "import wandb\n",
        "import random\n",
        "\n",
        "# Define a simple training function\n",
        "def train_dummy_model(config=None):\n",
        "    with wandb.init(config=config):\n",
        "        config = wandb.config\n",
        "\n",
        "        # Simulate training for 5 epochs\n",
        "        for epoch in range(5):\n",
        "            loss = random.uniform(0.1, 1.0)  # Generate random loss\n",
        "            wandb.log({\"loss\": loss})  # Log loss to WandB\n",
        "\n",
        "            print(f\"Epoch {epoch+1}: Loss = {loss:.4f}\")\n",
        "\n",
        "# Define the sweep configuration\n",
        "sweep_config = {\n",
        "    \"method\": \"random\",\n",
        "    \"metric\": {\"name\": \"loss\", \"goal\": \"minimize\"},\n",
        "    \"parameters\": {\n",
        "        \"learning_rate\": {\"values\": [0.01, 0.001]},\n",
        "        \"batch_size\": {\"values\": [16, 32]}\n",
        "    }\n",
        "}\n",
        "\n",
        "# Initialize the sweep\n",
        "sweep_id = wandb.sweep(sweep_config, project=\"wandb-sweep-test\")\n",
        "\n",
        "# Run the agent\n",
        "wandb.agent(sweep_id, function=train_dummy_model, count=3)"
      ],
      "metadata": {
        "colab": {
          "base_uri": "https://localhost:8080/",
          "height": 1000
        },
        "id": "ehEp64QCGFHv",
        "outputId": "5ddb6108-690d-43b4-bf84-2db0bc5b8ee2"
      },
      "execution_count": 5,
      "outputs": [
        {
          "output_type": "stream",
          "name": "stdout",
          "text": [
            "Create sweep with ID: 2edgbqdg\n",
            "Sweep URL: https://wandb.ai/24mcs102-national-institute-of-technology-hamirpur/wandb-sweep-test/sweeps/2edgbqdg\n"
          ]
        },
        {
          "output_type": "stream",
          "name": "stderr",
          "text": [
            "\u001b[34m\u001b[1mwandb\u001b[0m: Agent Starting Run: qq7pi8vw with config:\n",
            "\u001b[34m\u001b[1mwandb\u001b[0m: \tbatch_size: 16\n",
            "\u001b[34m\u001b[1mwandb\u001b[0m: \tlearning_rate: 0.01\n"
          ]
        },
        {
          "output_type": "display_data",
          "data": {
            "text/plain": [
              "<IPython.core.display.HTML object>"
            ],
            "text/html": [
              "Tracking run with wandb version 0.19.7"
            ]
          },
          "metadata": {}
        },
        {
          "output_type": "display_data",
          "data": {
            "text/plain": [
              "<IPython.core.display.HTML object>"
            ],
            "text/html": [
              "Run data is saved locally in <code>/content/wandb/run-20250309_083812-qq7pi8vw</code>"
            ]
          },
          "metadata": {}
        },
        {
          "output_type": "display_data",
          "data": {
            "text/plain": [
              "<IPython.core.display.HTML object>"
            ],
            "text/html": [
              "Syncing run <strong><a href='https://wandb.ai/24mcs102-national-institute-of-technology-hamirpur/wandb-sweep-test/runs/qq7pi8vw' target=\"_blank\">flowing-sweep-1</a></strong> to <a href='https://wandb.ai/24mcs102-national-institute-of-technology-hamirpur/wandb-sweep-test' target=\"_blank\">Weights & Biases</a> (<a href='https://wandb.me/developer-guide' target=\"_blank\">docs</a>)<br>Sweep page: <a href='https://wandb.ai/24mcs102-national-institute-of-technology-hamirpur/wandb-sweep-test/sweeps/2edgbqdg' target=\"_blank\">https://wandb.ai/24mcs102-national-institute-of-technology-hamirpur/wandb-sweep-test/sweeps/2edgbqdg</a>"
            ]
          },
          "metadata": {}
        },
        {
          "output_type": "display_data",
          "data": {
            "text/plain": [
              "<IPython.core.display.HTML object>"
            ],
            "text/html": [
              " View project at <a href='https://wandb.ai/24mcs102-national-institute-of-technology-hamirpur/wandb-sweep-test' target=\"_blank\">https://wandb.ai/24mcs102-national-institute-of-technology-hamirpur/wandb-sweep-test</a>"
            ]
          },
          "metadata": {}
        },
        {
          "output_type": "display_data",
          "data": {
            "text/plain": [
              "<IPython.core.display.HTML object>"
            ],
            "text/html": [
              " View sweep at <a href='https://wandb.ai/24mcs102-national-institute-of-technology-hamirpur/wandb-sweep-test/sweeps/2edgbqdg' target=\"_blank\">https://wandb.ai/24mcs102-national-institute-of-technology-hamirpur/wandb-sweep-test/sweeps/2edgbqdg</a>"
            ]
          },
          "metadata": {}
        },
        {
          "output_type": "display_data",
          "data": {
            "text/plain": [
              "<IPython.core.display.HTML object>"
            ],
            "text/html": [
              " View run at <a href='https://wandb.ai/24mcs102-national-institute-of-technology-hamirpur/wandb-sweep-test/runs/qq7pi8vw' target=\"_blank\">https://wandb.ai/24mcs102-national-institute-of-technology-hamirpur/wandb-sweep-test/runs/qq7pi8vw</a>"
            ]
          },
          "metadata": {}
        },
        {
          "output_type": "stream",
          "name": "stdout",
          "text": [
            "Epoch 1: Loss = 0.9008\n",
            "Epoch 2: Loss = 0.9596\n",
            "Epoch 3: Loss = 0.9902\n",
            "Epoch 4: Loss = 0.4153\n",
            "Epoch 5: Loss = 0.9313\n"
          ]
        },
        {
          "output_type": "display_data",
          "data": {
            "text/plain": [
              "<IPython.core.display.HTML object>"
            ],
            "text/html": []
          },
          "metadata": {}
        },
        {
          "output_type": "display_data",
          "data": {
            "text/plain": [
              "<IPython.core.display.HTML object>"
            ],
            "text/html": [
              "<br>    <style><br>        .wandb-row {<br>            display: flex;<br>            flex-direction: row;<br>            flex-wrap: wrap;<br>            justify-content: flex-start;<br>            width: 100%;<br>        }<br>        .wandb-col {<br>            display: flex;<br>            flex-direction: column;<br>            flex-basis: 100%;<br>            flex: 1;<br>            padding: 10px;<br>        }<br>    </style><br><div class=\"wandb-row\"><div class=\"wandb-col\"><h3>Run history:</h3><br/><table class=\"wandb\"><tr><td>loss</td><td>▇██▁▇</td></tr></table><br/></div><div class=\"wandb-col\"><h3>Run summary:</h3><br/><table class=\"wandb\"><tr><td>loss</td><td>0.93131</td></tr></table><br/></div></div>"
            ]
          },
          "metadata": {}
        },
        {
          "output_type": "display_data",
          "data": {
            "text/plain": [
              "<IPython.core.display.HTML object>"
            ],
            "text/html": [
              " View run <strong style=\"color:#cdcd00\">flowing-sweep-1</strong> at: <a href='https://wandb.ai/24mcs102-national-institute-of-technology-hamirpur/wandb-sweep-test/runs/qq7pi8vw' target=\"_blank\">https://wandb.ai/24mcs102-national-institute-of-technology-hamirpur/wandb-sweep-test/runs/qq7pi8vw</a><br> View project at: <a href='https://wandb.ai/24mcs102-national-institute-of-technology-hamirpur/wandb-sweep-test' target=\"_blank\">https://wandb.ai/24mcs102-national-institute-of-technology-hamirpur/wandb-sweep-test</a><br>Synced 5 W&B file(s), 0 media file(s), 0 artifact file(s) and 0 other file(s)"
            ]
          },
          "metadata": {}
        },
        {
          "output_type": "display_data",
          "data": {
            "text/plain": [
              "<IPython.core.display.HTML object>"
            ],
            "text/html": [
              "Find logs at: <code>./wandb/run-20250309_083812-qq7pi8vw/logs</code>"
            ]
          },
          "metadata": {}
        },
        {
          "output_type": "stream",
          "name": "stderr",
          "text": [
            "\u001b[34m\u001b[1mwandb\u001b[0m: Agent Starting Run: mp6srucb with config:\n",
            "\u001b[34m\u001b[1mwandb\u001b[0m: \tbatch_size: 16\n",
            "\u001b[34m\u001b[1mwandb\u001b[0m: \tlearning_rate: 0.01\n"
          ]
        },
        {
          "output_type": "display_data",
          "data": {
            "text/plain": [
              "<IPython.core.display.HTML object>"
            ],
            "text/html": [
              "Tracking run with wandb version 0.19.7"
            ]
          },
          "metadata": {}
        },
        {
          "output_type": "display_data",
          "data": {
            "text/plain": [
              "<IPython.core.display.HTML object>"
            ],
            "text/html": [
              "Run data is saved locally in <code>/content/wandb/run-20250309_083817-mp6srucb</code>"
            ]
          },
          "metadata": {}
        },
        {
          "output_type": "display_data",
          "data": {
            "text/plain": [
              "<IPython.core.display.HTML object>"
            ],
            "text/html": [
              "Syncing run <strong><a href='https://wandb.ai/24mcs102-national-institute-of-technology-hamirpur/wandb-sweep-test/runs/mp6srucb' target=\"_blank\">wobbly-sweep-2</a></strong> to <a href='https://wandb.ai/24mcs102-national-institute-of-technology-hamirpur/wandb-sweep-test' target=\"_blank\">Weights & Biases</a> (<a href='https://wandb.me/developer-guide' target=\"_blank\">docs</a>)<br>Sweep page: <a href='https://wandb.ai/24mcs102-national-institute-of-technology-hamirpur/wandb-sweep-test/sweeps/2edgbqdg' target=\"_blank\">https://wandb.ai/24mcs102-national-institute-of-technology-hamirpur/wandb-sweep-test/sweeps/2edgbqdg</a>"
            ]
          },
          "metadata": {}
        },
        {
          "output_type": "display_data",
          "data": {
            "text/plain": [
              "<IPython.core.display.HTML object>"
            ],
            "text/html": [
              " View project at <a href='https://wandb.ai/24mcs102-national-institute-of-technology-hamirpur/wandb-sweep-test' target=\"_blank\">https://wandb.ai/24mcs102-national-institute-of-technology-hamirpur/wandb-sweep-test</a>"
            ]
          },
          "metadata": {}
        },
        {
          "output_type": "display_data",
          "data": {
            "text/plain": [
              "<IPython.core.display.HTML object>"
            ],
            "text/html": [
              " View sweep at <a href='https://wandb.ai/24mcs102-national-institute-of-technology-hamirpur/wandb-sweep-test/sweeps/2edgbqdg' target=\"_blank\">https://wandb.ai/24mcs102-national-institute-of-technology-hamirpur/wandb-sweep-test/sweeps/2edgbqdg</a>"
            ]
          },
          "metadata": {}
        },
        {
          "output_type": "display_data",
          "data": {
            "text/plain": [
              "<IPython.core.display.HTML object>"
            ],
            "text/html": [
              " View run at <a href='https://wandb.ai/24mcs102-national-institute-of-technology-hamirpur/wandb-sweep-test/runs/mp6srucb' target=\"_blank\">https://wandb.ai/24mcs102-national-institute-of-technology-hamirpur/wandb-sweep-test/runs/mp6srucb</a>"
            ]
          },
          "metadata": {}
        },
        {
          "output_type": "stream",
          "name": "stdout",
          "text": [
            "Epoch 1: Loss = 0.5177\n",
            "Epoch 2: Loss = 0.2360\n",
            "Epoch 3: Loss = 0.6446\n",
            "Epoch 4: Loss = 0.4817\n",
            "Epoch 5: Loss = 0.9331\n"
          ]
        },
        {
          "output_type": "display_data",
          "data": {
            "text/plain": [
              "<IPython.core.display.HTML object>"
            ],
            "text/html": []
          },
          "metadata": {}
        },
        {
          "output_type": "display_data",
          "data": {
            "text/plain": [
              "<IPython.core.display.HTML object>"
            ],
            "text/html": [
              "<br>    <style><br>        .wandb-row {<br>            display: flex;<br>            flex-direction: row;<br>            flex-wrap: wrap;<br>            justify-content: flex-start;<br>            width: 100%;<br>        }<br>        .wandb-col {<br>            display: flex;<br>            flex-direction: column;<br>            flex-basis: 100%;<br>            flex: 1;<br>            padding: 10px;<br>        }<br>    </style><br><div class=\"wandb-row\"><div class=\"wandb-col\"><h3>Run history:</h3><br/><table class=\"wandb\"><tr><td>loss</td><td>▄▁▅▃█</td></tr></table><br/></div><div class=\"wandb-col\"><h3>Run summary:</h3><br/><table class=\"wandb\"><tr><td>loss</td><td>0.93313</td></tr></table><br/></div></div>"
            ]
          },
          "metadata": {}
        },
        {
          "output_type": "display_data",
          "data": {
            "text/plain": [
              "<IPython.core.display.HTML object>"
            ],
            "text/html": [
              " View run <strong style=\"color:#cdcd00\">wobbly-sweep-2</strong> at: <a href='https://wandb.ai/24mcs102-national-institute-of-technology-hamirpur/wandb-sweep-test/runs/mp6srucb' target=\"_blank\">https://wandb.ai/24mcs102-national-institute-of-technology-hamirpur/wandb-sweep-test/runs/mp6srucb</a><br> View project at: <a href='https://wandb.ai/24mcs102-national-institute-of-technology-hamirpur/wandb-sweep-test' target=\"_blank\">https://wandb.ai/24mcs102-national-institute-of-technology-hamirpur/wandb-sweep-test</a><br>Synced 5 W&B file(s), 0 media file(s), 0 artifact file(s) and 0 other file(s)"
            ]
          },
          "metadata": {}
        },
        {
          "output_type": "display_data",
          "data": {
            "text/plain": [
              "<IPython.core.display.HTML object>"
            ],
            "text/html": [
              "Find logs at: <code>./wandb/run-20250309_083817-mp6srucb/logs</code>"
            ]
          },
          "metadata": {}
        },
        {
          "output_type": "stream",
          "name": "stderr",
          "text": [
            "\u001b[34m\u001b[1mwandb\u001b[0m: Agent Starting Run: q8ykrirf with config:\n",
            "\u001b[34m\u001b[1mwandb\u001b[0m: \tbatch_size: 16\n",
            "\u001b[34m\u001b[1mwandb\u001b[0m: \tlearning_rate: 0.001\n"
          ]
        },
        {
          "output_type": "display_data",
          "data": {
            "text/plain": [
              "<IPython.core.display.HTML object>"
            ],
            "text/html": [
              "Tracking run with wandb version 0.19.7"
            ]
          },
          "metadata": {}
        },
        {
          "output_type": "display_data",
          "data": {
            "text/plain": [
              "<IPython.core.display.HTML object>"
            ],
            "text/html": [
              "Run data is saved locally in <code>/content/wandb/run-20250309_083822-q8ykrirf</code>"
            ]
          },
          "metadata": {}
        },
        {
          "output_type": "display_data",
          "data": {
            "text/plain": [
              "<IPython.core.display.HTML object>"
            ],
            "text/html": [
              "Syncing run <strong><a href='https://wandb.ai/24mcs102-national-institute-of-technology-hamirpur/wandb-sweep-test/runs/q8ykrirf' target=\"_blank\">playful-sweep-3</a></strong> to <a href='https://wandb.ai/24mcs102-national-institute-of-technology-hamirpur/wandb-sweep-test' target=\"_blank\">Weights & Biases</a> (<a href='https://wandb.me/developer-guide' target=\"_blank\">docs</a>)<br>Sweep page: <a href='https://wandb.ai/24mcs102-national-institute-of-technology-hamirpur/wandb-sweep-test/sweeps/2edgbqdg' target=\"_blank\">https://wandb.ai/24mcs102-national-institute-of-technology-hamirpur/wandb-sweep-test/sweeps/2edgbqdg</a>"
            ]
          },
          "metadata": {}
        },
        {
          "output_type": "display_data",
          "data": {
            "text/plain": [
              "<IPython.core.display.HTML object>"
            ],
            "text/html": [
              " View project at <a href='https://wandb.ai/24mcs102-national-institute-of-technology-hamirpur/wandb-sweep-test' target=\"_blank\">https://wandb.ai/24mcs102-national-institute-of-technology-hamirpur/wandb-sweep-test</a>"
            ]
          },
          "metadata": {}
        },
        {
          "output_type": "display_data",
          "data": {
            "text/plain": [
              "<IPython.core.display.HTML object>"
            ],
            "text/html": [
              " View sweep at <a href='https://wandb.ai/24mcs102-national-institute-of-technology-hamirpur/wandb-sweep-test/sweeps/2edgbqdg' target=\"_blank\">https://wandb.ai/24mcs102-national-institute-of-technology-hamirpur/wandb-sweep-test/sweeps/2edgbqdg</a>"
            ]
          },
          "metadata": {}
        },
        {
          "output_type": "display_data",
          "data": {
            "text/plain": [
              "<IPython.core.display.HTML object>"
            ],
            "text/html": [
              " View run at <a href='https://wandb.ai/24mcs102-national-institute-of-technology-hamirpur/wandb-sweep-test/runs/q8ykrirf' target=\"_blank\">https://wandb.ai/24mcs102-national-institute-of-technology-hamirpur/wandb-sweep-test/runs/q8ykrirf</a>"
            ]
          },
          "metadata": {}
        },
        {
          "output_type": "stream",
          "name": "stdout",
          "text": [
            "Epoch 1: Loss = 0.7751\n",
            "Epoch 2: Loss = 0.9844\n",
            "Epoch 3: Loss = 0.2116\n",
            "Epoch 4: Loss = 0.1591\n",
            "Epoch 5: Loss = 0.5550\n"
          ]
        },
        {
          "output_type": "display_data",
          "data": {
            "text/plain": [
              "<IPython.core.display.HTML object>"
            ],
            "text/html": []
          },
          "metadata": {}
        },
        {
          "output_type": "display_data",
          "data": {
            "text/plain": [
              "<IPython.core.display.HTML object>"
            ],
            "text/html": [
              "<br>    <style><br>        .wandb-row {<br>            display: flex;<br>            flex-direction: row;<br>            flex-wrap: wrap;<br>            justify-content: flex-start;<br>            width: 100%;<br>        }<br>        .wandb-col {<br>            display: flex;<br>            flex-direction: column;<br>            flex-basis: 100%;<br>            flex: 1;<br>            padding: 10px;<br>        }<br>    </style><br><div class=\"wandb-row\"><div class=\"wandb-col\"><h3>Run history:</h3><br/><table class=\"wandb\"><tr><td>loss</td><td>▆█▁▁▄</td></tr></table><br/></div><div class=\"wandb-col\"><h3>Run summary:</h3><br/><table class=\"wandb\"><tr><td>loss</td><td>0.555</td></tr></table><br/></div></div>"
            ]
          },
          "metadata": {}
        },
        {
          "output_type": "display_data",
          "data": {
            "text/plain": [
              "<IPython.core.display.HTML object>"
            ],
            "text/html": [
              " View run <strong style=\"color:#cdcd00\">playful-sweep-3</strong> at: <a href='https://wandb.ai/24mcs102-national-institute-of-technology-hamirpur/wandb-sweep-test/runs/q8ykrirf' target=\"_blank\">https://wandb.ai/24mcs102-national-institute-of-technology-hamirpur/wandb-sweep-test/runs/q8ykrirf</a><br> View project at: <a href='https://wandb.ai/24mcs102-national-institute-of-technology-hamirpur/wandb-sweep-test' target=\"_blank\">https://wandb.ai/24mcs102-national-institute-of-technology-hamirpur/wandb-sweep-test</a><br>Synced 5 W&B file(s), 0 media file(s), 0 artifact file(s) and 0 other file(s)"
            ]
          },
          "metadata": {}
        },
        {
          "output_type": "display_data",
          "data": {
            "text/plain": [
              "<IPython.core.display.HTML object>"
            ],
            "text/html": [
              "Find logs at: <code>./wandb/run-20250309_083822-q8ykrirf/logs</code>"
            ]
          },
          "metadata": {}
        }
      ]
    },
    {
      "cell_type": "code",
      "source": [
        "import numpy as np\n",
        "import torch\n",
        "import torch.nn as nn\n",
        "import torch.optim as optim\n",
        "import wandb\n",
        "from tensorflow.keras.datasets import fashion_mnist\n",
        "from sklearn.model_selection import train_test_split\n",
        "\n",
        "# Define a flexible neural network\n",
        "class FashionMNISTModel(nn.Module):\n",
        "    def __init__(self, input_size, hidden_layers, layer_size, output_size, activation, weight_init):\n",
        "        super(FashionMNISTModel, self).__init__()\n",
        "        layers = []\n",
        "        prev_size = input_size\n",
        "\n",
        "        for _ in range(hidden_layers):\n",
        "            layer = nn.Linear(prev_size, layer_size)\n",
        "            if weight_init == 'Xavier':\n",
        "                nn.init.xavier_uniform_(layer.weight)\n",
        "            layers.append(layer)\n",
        "            layers.append(activation())\n",
        "            prev_size = layer_size\n",
        "\n",
        "        layers.append(nn.Linear(prev_size, output_size))\n",
        "        self.model = nn.Sequential(*layers)\n",
        "\n",
        "    def forward(self, x):\n",
        "        return self.model(x)\n",
        "\n",
        "# Training function\n",
        "def train_network(config=None):\n",
        "    with wandb.init(config=config):\n",
        "        config = wandb.config\n",
        "\n",
        "        # Load dataset\n",
        "        (X_train, y_train), (X_test, y_test) = fashion_mnist.load_data()\n",
        "        X_train = X_train.reshape(X_train.shape[0], -1) / 255.0\n",
        "        X_test = X_test.reshape(X_test.shape[0], -1) / 255.0\n",
        "\n",
        "        # Select only 20 random samples\n",
        "        random_indices = np.random.choice(len(X_train), 20, replace=False)\n",
        "        X_train, y_train = X_train[random_indices], y_train[random_indices]\n",
        "\n",
        "        # Split into train and validation sets (90% train, 10% validation)\n",
        "        X_train, X_val, y_train, y_val = train_test_split(X_train, y_train, test_size=0.1, random_state=42)\n",
        "\n",
        "        # Convert to PyTorch tensors\n",
        "        tensor_x_train = torch.tensor(X_train, dtype=torch.float32)\n",
        "        tensor_y_train = torch.tensor(y_train, dtype=torch.long)\n",
        "        train_loader = torch.utils.data.DataLoader(torch.utils.data.TensorDataset(tensor_x_train, tensor_y_train),\n",
        "                                                   batch_size=config.batch_size, shuffle=True)\n",
        "\n",
        "        tensor_x_val = torch.tensor(X_val, dtype=torch.float32)\n",
        "        tensor_y_val = torch.tensor(y_val, dtype=torch.long)\n",
        "        val_loader = torch.utils.data.DataLoader(torch.utils.data.TensorDataset(tensor_x_val, tensor_y_val),\n",
        "                                                 batch_size=config.batch_size, shuffle=False)\n",
        "\n",
        "        # Initialize model\n",
        "        activation_fn = {'sigmoid': nn.Sigmoid, 'tanh': nn.Tanh, 'ReLU': nn.ReLU}[config.activation]\n",
        "        model = FashionMNISTModel(X_train.shape[1], config.hidden_layers, config.layer_size, 10,\n",
        "                                  activation=activation_fn, weight_init=config.weight_init)\n",
        "\n",
        "        # Define optimizer\n",
        "        optimizer = getattr(optim, config.optimizer)(model.parameters(), lr=config.learning_rate, weight_decay=config.weight_decay)\n",
        "        criterion = nn.CrossEntropyLoss()\n",
        "\n",
        "        # Training loop\n",
        "        for epoch in range(config.epochs):\n",
        "            model.train()\n",
        "            epoch_loss = 0\n",
        "            for data, target in train_loader:\n",
        "                optimizer.zero_grad()\n",
        "                output = model(data)\n",
        "                loss = criterion(output, target)\n",
        "                loss.backward()\n",
        "                optimizer.step()\n",
        "                epoch_loss += loss.item()\n",
        "\n",
        "            avg_train_loss = epoch_loss / len(train_loader)\n",
        "            wandb.log({\"Training Loss\": avg_train_loss})\n",
        "\n",
        "            # Validation\n",
        "            model.eval()\n",
        "            val_loss = 0\n",
        "            with torch.no_grad():\n",
        "                for data, target in val_loader:\n",
        "                    output = model(data)\n",
        "                    loss = criterion(output, target)\n",
        "                    val_loss += loss.item()\n",
        "\n",
        "            avg_val_loss = val_loss / len(val_loader)\n",
        "            wandb.log({\"Validation Loss\": avg_val_loss})\n",
        "\n",
        "            if epoch % 5 == 0:\n",
        "                print(f\"Epoch {epoch}: Training Loss = {avg_train_loss:.4f}, Validation Loss = {avg_val_loss:.4f}\")\n",
        "\n",
        "# Define WandB Sweep Configuration\n",
        "sweep_config = {\n",
        "    \"method\": \"bayes\",  # Bayesian optimization for efficient search\n",
        "    \"metric\": {\"name\": \"Validation Loss\", \"goal\": \"minimize\"},\n",
        "    \"parameters\": {\n",
        "        \"epochs\": {\"values\": [5]},  # Reduced epochs for quicker experiments\n",
        "        \"hidden_layers\": {\"values\": [2]},  # Reduced hidden layers for faster computation\n",
        "        \"layer_size\": {\"values\": [32]},  # Reduced layer size for faster computation\n",
        "        \"weight_decay\": {\"values\": [0.0005]},\n",
        "        \"learning_rate\": {\"values\": [1e-3]},\n",
        "        \"optimizer\": {\"values\": [\"SGD\"]},\n",
        "        \"batch_size\": {\"values\": [16]},  # Reduced batch size for faster training\n",
        "        \"weight_init\": {\"values\": [\"Xavier\"]},\n",
        "        \"activation\": {\"values\": [\"ReLU\"]}\n",
        "    }\n",
        "}\n",
        "\n",
        "# Initialize the sweep\n",
        "sweep_id = wandb.sweep(sweep_config, project=\"fashion-mnist-sweep\")\n",
        "\n",
        "# Run the sweep agent\n",
        "wandb.agent(sweep_id, function=train_network, count=5)"
      ],
      "metadata": {
        "colab": {
          "base_uri": "https://localhost:8080/",
          "height": 1000
        },
        "id": "giu3_sEPGIzN",
        "outputId": "dc777b9b-ede4-4465-d3a5-8e8e1e4c6d4e"
      },
      "execution_count": 6,
      "outputs": [
        {
          "output_type": "stream",
          "name": "stdout",
          "text": [
            "Create sweep with ID: qg686r1n\n",
            "Sweep URL: https://wandb.ai/24mcs102-national-institute-of-technology-hamirpur/fashion-mnist-sweep/sweeps/qg686r1n\n"
          ]
        },
        {
          "output_type": "stream",
          "name": "stderr",
          "text": [
            "\u001b[34m\u001b[1mwandb\u001b[0m: Agent Starting Run: gcjrmzxo with config:\n",
            "\u001b[34m\u001b[1mwandb\u001b[0m: \tactivation: ReLU\n",
            "\u001b[34m\u001b[1mwandb\u001b[0m: \tbatch_size: 16\n",
            "\u001b[34m\u001b[1mwandb\u001b[0m: \tepochs: 5\n",
            "\u001b[34m\u001b[1mwandb\u001b[0m: \thidden_layers: 2\n",
            "\u001b[34m\u001b[1mwandb\u001b[0m: \tlayer_size: 32\n",
            "\u001b[34m\u001b[1mwandb\u001b[0m: \tlearning_rate: 0.001\n",
            "\u001b[34m\u001b[1mwandb\u001b[0m: \toptimizer: SGD\n",
            "\u001b[34m\u001b[1mwandb\u001b[0m: \tweight_decay: 0.0005\n",
            "\u001b[34m\u001b[1mwandb\u001b[0m: \tweight_init: Xavier\n"
          ]
        },
        {
          "output_type": "display_data",
          "data": {
            "text/plain": [
              "<IPython.core.display.HTML object>"
            ],
            "text/html": [
              "Tracking run with wandb version 0.19.7"
            ]
          },
          "metadata": {}
        },
        {
          "output_type": "display_data",
          "data": {
            "text/plain": [
              "<IPython.core.display.HTML object>"
            ],
            "text/html": [
              "Run data is saved locally in <code>/content/wandb/run-20250309_083851-gcjrmzxo</code>"
            ]
          },
          "metadata": {}
        },
        {
          "output_type": "display_data",
          "data": {
            "text/plain": [
              "<IPython.core.display.HTML object>"
            ],
            "text/html": [
              "Syncing run <strong><a href='https://wandb.ai/24mcs102-national-institute-of-technology-hamirpur/fashion-mnist-sweep/runs/gcjrmzxo' target=\"_blank\">eager-sweep-1</a></strong> to <a href='https://wandb.ai/24mcs102-national-institute-of-technology-hamirpur/fashion-mnist-sweep' target=\"_blank\">Weights & Biases</a> (<a href='https://wandb.me/developer-guide' target=\"_blank\">docs</a>)<br>Sweep page: <a href='https://wandb.ai/24mcs102-national-institute-of-technology-hamirpur/fashion-mnist-sweep/sweeps/qg686r1n' target=\"_blank\">https://wandb.ai/24mcs102-national-institute-of-technology-hamirpur/fashion-mnist-sweep/sweeps/qg686r1n</a>"
            ]
          },
          "metadata": {}
        },
        {
          "output_type": "display_data",
          "data": {
            "text/plain": [
              "<IPython.core.display.HTML object>"
            ],
            "text/html": [
              " View project at <a href='https://wandb.ai/24mcs102-national-institute-of-technology-hamirpur/fashion-mnist-sweep' target=\"_blank\">https://wandb.ai/24mcs102-national-institute-of-technology-hamirpur/fashion-mnist-sweep</a>"
            ]
          },
          "metadata": {}
        },
        {
          "output_type": "display_data",
          "data": {
            "text/plain": [
              "<IPython.core.display.HTML object>"
            ],
            "text/html": [
              " View sweep at <a href='https://wandb.ai/24mcs102-national-institute-of-technology-hamirpur/fashion-mnist-sweep/sweeps/qg686r1n' target=\"_blank\">https://wandb.ai/24mcs102-national-institute-of-technology-hamirpur/fashion-mnist-sweep/sweeps/qg686r1n</a>"
            ]
          },
          "metadata": {}
        },
        {
          "output_type": "display_data",
          "data": {
            "text/plain": [
              "<IPython.core.display.HTML object>"
            ],
            "text/html": [
              " View run at <a href='https://wandb.ai/24mcs102-national-institute-of-technology-hamirpur/fashion-mnist-sweep/runs/gcjrmzxo' target=\"_blank\">https://wandb.ai/24mcs102-national-institute-of-technology-hamirpur/fashion-mnist-sweep/runs/gcjrmzxo</a>"
            ]
          },
          "metadata": {}
        },
        {
          "output_type": "stream",
          "name": "stdout",
          "text": [
            "Downloading data from https://storage.googleapis.com/tensorflow/tf-keras-datasets/train-labels-idx1-ubyte.gz\n",
            "\u001b[1m29515/29515\u001b[0m \u001b[32m━━━━━━━━━━━━━━━━━━━━\u001b[0m\u001b[37m\u001b[0m \u001b[1m0s\u001b[0m 0us/step\n",
            "Downloading data from https://storage.googleapis.com/tensorflow/tf-keras-datasets/train-images-idx3-ubyte.gz\n",
            "\u001b[1m26421880/26421880\u001b[0m \u001b[32m━━━━━━━━━━━━━━━━━━━━\u001b[0m\u001b[37m\u001b[0m \u001b[1m0s\u001b[0m 0us/step\n",
            "Downloading data from https://storage.googleapis.com/tensorflow/tf-keras-datasets/t10k-labels-idx1-ubyte.gz\n",
            "\u001b[1m5148/5148\u001b[0m \u001b[32m━━━━━━━━━━━━━━━━━━━━\u001b[0m\u001b[37m\u001b[0m \u001b[1m0s\u001b[0m 0us/step\n",
            "Downloading data from https://storage.googleapis.com/tensorflow/tf-keras-datasets/t10k-images-idx3-ubyte.gz\n",
            "\u001b[1m4422102/4422102\u001b[0m \u001b[32m━━━━━━━━━━━━━━━━━━━━\u001b[0m\u001b[37m\u001b[0m \u001b[1m0s\u001b[0m 0us/step\n",
            "Epoch 0: Training Loss = 2.3637, Validation Loss = 2.3524\n"
          ]
        },
        {
          "output_type": "display_data",
          "data": {
            "text/plain": [
              "<IPython.core.display.HTML object>"
            ],
            "text/html": []
          },
          "metadata": {}
        },
        {
          "output_type": "display_data",
          "data": {
            "text/plain": [
              "<IPython.core.display.HTML object>"
            ],
            "text/html": [
              "<br>    <style><br>        .wandb-row {<br>            display: flex;<br>            flex-direction: row;<br>            flex-wrap: wrap;<br>            justify-content: flex-start;<br>            width: 100%;<br>        }<br>        .wandb-col {<br>            display: flex;<br>            flex-direction: column;<br>            flex-basis: 100%;<br>            flex: 1;<br>            padding: 10px;<br>        }<br>    </style><br><div class=\"wandb-row\"><div class=\"wandb-col\"><h3>Run history:</h3><br/><table class=\"wandb\"><tr><td>Training Loss</td><td>█▅▁▃▅</td></tr><tr><td>Validation Loss</td><td>█▅▅▆▁</td></tr></table><br/></div><div class=\"wandb-col\"><h3>Run summary:</h3><br/><table class=\"wandb\"><tr><td>Training Loss</td><td>2.32717</td></tr><tr><td>Validation Loss</td><td>2.34672</td></tr></table><br/></div></div>"
            ]
          },
          "metadata": {}
        },
        {
          "output_type": "display_data",
          "data": {
            "text/plain": [
              "<IPython.core.display.HTML object>"
            ],
            "text/html": [
              " View run <strong style=\"color:#cdcd00\">eager-sweep-1</strong> at: <a href='https://wandb.ai/24mcs102-national-institute-of-technology-hamirpur/fashion-mnist-sweep/runs/gcjrmzxo' target=\"_blank\">https://wandb.ai/24mcs102-national-institute-of-technology-hamirpur/fashion-mnist-sweep/runs/gcjrmzxo</a><br> View project at: <a href='https://wandb.ai/24mcs102-national-institute-of-technology-hamirpur/fashion-mnist-sweep' target=\"_blank\">https://wandb.ai/24mcs102-national-institute-of-technology-hamirpur/fashion-mnist-sweep</a><br>Synced 5 W&B file(s), 0 media file(s), 0 artifact file(s) and 0 other file(s)"
            ]
          },
          "metadata": {}
        },
        {
          "output_type": "display_data",
          "data": {
            "text/plain": [
              "<IPython.core.display.HTML object>"
            ],
            "text/html": [
              "Find logs at: <code>./wandb/run-20250309_083851-gcjrmzxo/logs</code>"
            ]
          },
          "metadata": {}
        },
        {
          "output_type": "stream",
          "name": "stderr",
          "text": [
            "\u001b[34m\u001b[1mwandb\u001b[0m: Agent Starting Run: ryyc61pq with config:\n",
            "\u001b[34m\u001b[1mwandb\u001b[0m: \tactivation: ReLU\n",
            "\u001b[34m\u001b[1mwandb\u001b[0m: \tbatch_size: 16\n",
            "\u001b[34m\u001b[1mwandb\u001b[0m: \tepochs: 5\n",
            "\u001b[34m\u001b[1mwandb\u001b[0m: \thidden_layers: 2\n",
            "\u001b[34m\u001b[1mwandb\u001b[0m: \tlayer_size: 32\n",
            "\u001b[34m\u001b[1mwandb\u001b[0m: \tlearning_rate: 0.001\n",
            "\u001b[34m\u001b[1mwandb\u001b[0m: \toptimizer: SGD\n",
            "\u001b[34m\u001b[1mwandb\u001b[0m: \tweight_decay: 0.0005\n",
            "\u001b[34m\u001b[1mwandb\u001b[0m: \tweight_init: Xavier\n"
          ]
        },
        {
          "output_type": "display_data",
          "data": {
            "text/plain": [
              "<IPython.core.display.HTML object>"
            ],
            "text/html": [
              "Tracking run with wandb version 0.19.7"
            ]
          },
          "metadata": {}
        },
        {
          "output_type": "display_data",
          "data": {
            "text/plain": [
              "<IPython.core.display.HTML object>"
            ],
            "text/html": [
              "Run data is saved locally in <code>/content/wandb/run-20250309_083906-ryyc61pq</code>"
            ]
          },
          "metadata": {}
        },
        {
          "output_type": "display_data",
          "data": {
            "text/plain": [
              "<IPython.core.display.HTML object>"
            ],
            "text/html": [
              "Syncing run <strong><a href='https://wandb.ai/24mcs102-national-institute-of-technology-hamirpur/fashion-mnist-sweep/runs/ryyc61pq' target=\"_blank\">sweet-sweep-2</a></strong> to <a href='https://wandb.ai/24mcs102-national-institute-of-technology-hamirpur/fashion-mnist-sweep' target=\"_blank\">Weights & Biases</a> (<a href='https://wandb.me/developer-guide' target=\"_blank\">docs</a>)<br>Sweep page: <a href='https://wandb.ai/24mcs102-national-institute-of-technology-hamirpur/fashion-mnist-sweep/sweeps/qg686r1n' target=\"_blank\">https://wandb.ai/24mcs102-national-institute-of-technology-hamirpur/fashion-mnist-sweep/sweeps/qg686r1n</a>"
            ]
          },
          "metadata": {}
        },
        {
          "output_type": "display_data",
          "data": {
            "text/plain": [
              "<IPython.core.display.HTML object>"
            ],
            "text/html": [
              " View project at <a href='https://wandb.ai/24mcs102-national-institute-of-technology-hamirpur/fashion-mnist-sweep' target=\"_blank\">https://wandb.ai/24mcs102-national-institute-of-technology-hamirpur/fashion-mnist-sweep</a>"
            ]
          },
          "metadata": {}
        },
        {
          "output_type": "display_data",
          "data": {
            "text/plain": [
              "<IPython.core.display.HTML object>"
            ],
            "text/html": [
              " View sweep at <a href='https://wandb.ai/24mcs102-national-institute-of-technology-hamirpur/fashion-mnist-sweep/sweeps/qg686r1n' target=\"_blank\">https://wandb.ai/24mcs102-national-institute-of-technology-hamirpur/fashion-mnist-sweep/sweeps/qg686r1n</a>"
            ]
          },
          "metadata": {}
        },
        {
          "output_type": "display_data",
          "data": {
            "text/plain": [
              "<IPython.core.display.HTML object>"
            ],
            "text/html": [
              " View run at <a href='https://wandb.ai/24mcs102-national-institute-of-technology-hamirpur/fashion-mnist-sweep/runs/ryyc61pq' target=\"_blank\">https://wandb.ai/24mcs102-national-institute-of-technology-hamirpur/fashion-mnist-sweep/runs/ryyc61pq</a>"
            ]
          },
          "metadata": {}
        },
        {
          "output_type": "stream",
          "name": "stdout",
          "text": [
            "Epoch 0: Training Loss = 2.2320, Validation Loss = 2.4770\n"
          ]
        },
        {
          "output_type": "display_data",
          "data": {
            "text/plain": [
              "<IPython.core.display.HTML object>"
            ],
            "text/html": []
          },
          "metadata": {}
        },
        {
          "output_type": "display_data",
          "data": {
            "text/plain": [
              "<IPython.core.display.HTML object>"
            ],
            "text/html": [
              "<br>    <style><br>        .wandb-row {<br>            display: flex;<br>            flex-direction: row;<br>            flex-wrap: wrap;<br>            justify-content: flex-start;<br>            width: 100%;<br>        }<br>        .wandb-col {<br>            display: flex;<br>            flex-direction: column;<br>            flex-basis: 100%;<br>            flex: 1;<br>            padding: 10px;<br>        }<br>    </style><br><div class=\"wandb-row\"><div class=\"wandb-col\"><h3>Run history:</h3><br/><table class=\"wandb\"><tr><td>Training Loss</td><td>▁█▅█▆</td></tr><tr><td>Validation Loss</td><td>▇█▁▂▃</td></tr></table><br/></div><div class=\"wandb-col\"><h3>Run summary:</h3><br/><table class=\"wandb\"><tr><td>Training Loss</td><td>2.40482</td></tr><tr><td>Validation Loss</td><td>2.47145</td></tr></table><br/></div></div>"
            ]
          },
          "metadata": {}
        },
        {
          "output_type": "display_data",
          "data": {
            "text/plain": [
              "<IPython.core.display.HTML object>"
            ],
            "text/html": [
              " View run <strong style=\"color:#cdcd00\">sweet-sweep-2</strong> at: <a href='https://wandb.ai/24mcs102-national-institute-of-technology-hamirpur/fashion-mnist-sweep/runs/ryyc61pq' target=\"_blank\">https://wandb.ai/24mcs102-national-institute-of-technology-hamirpur/fashion-mnist-sweep/runs/ryyc61pq</a><br> View project at: <a href='https://wandb.ai/24mcs102-national-institute-of-technology-hamirpur/fashion-mnist-sweep' target=\"_blank\">https://wandb.ai/24mcs102-national-institute-of-technology-hamirpur/fashion-mnist-sweep</a><br>Synced 5 W&B file(s), 0 media file(s), 0 artifact file(s) and 0 other file(s)"
            ]
          },
          "metadata": {}
        },
        {
          "output_type": "display_data",
          "data": {
            "text/plain": [
              "<IPython.core.display.HTML object>"
            ],
            "text/html": [
              "Find logs at: <code>./wandb/run-20250309_083906-ryyc61pq/logs</code>"
            ]
          },
          "metadata": {}
        },
        {
          "output_type": "stream",
          "name": "stderr",
          "text": [
            "\u001b[34m\u001b[1mwandb\u001b[0m: Agent Starting Run: krynf9de with config:\n",
            "\u001b[34m\u001b[1mwandb\u001b[0m: \tactivation: ReLU\n",
            "\u001b[34m\u001b[1mwandb\u001b[0m: \tbatch_size: 16\n",
            "\u001b[34m\u001b[1mwandb\u001b[0m: \tepochs: 5\n",
            "\u001b[34m\u001b[1mwandb\u001b[0m: \thidden_layers: 2\n",
            "\u001b[34m\u001b[1mwandb\u001b[0m: \tlayer_size: 32\n",
            "\u001b[34m\u001b[1mwandb\u001b[0m: \tlearning_rate: 0.001\n",
            "\u001b[34m\u001b[1mwandb\u001b[0m: \toptimizer: SGD\n",
            "\u001b[34m\u001b[1mwandb\u001b[0m: \tweight_decay: 0.0005\n",
            "\u001b[34m\u001b[1mwandb\u001b[0m: \tweight_init: Xavier\n"
          ]
        },
        {
          "output_type": "display_data",
          "data": {
            "text/plain": [
              "<IPython.core.display.HTML object>"
            ],
            "text/html": [
              "Tracking run with wandb version 0.19.7"
            ]
          },
          "metadata": {}
        },
        {
          "output_type": "display_data",
          "data": {
            "text/plain": [
              "<IPython.core.display.HTML object>"
            ],
            "text/html": [
              "Run data is saved locally in <code>/content/wandb/run-20250309_083911-krynf9de</code>"
            ]
          },
          "metadata": {}
        },
        {
          "output_type": "display_data",
          "data": {
            "text/plain": [
              "<IPython.core.display.HTML object>"
            ],
            "text/html": [
              "Syncing run <strong><a href='https://wandb.ai/24mcs102-national-institute-of-technology-hamirpur/fashion-mnist-sweep/runs/krynf9de' target=\"_blank\">generous-sweep-3</a></strong> to <a href='https://wandb.ai/24mcs102-national-institute-of-technology-hamirpur/fashion-mnist-sweep' target=\"_blank\">Weights & Biases</a> (<a href='https://wandb.me/developer-guide' target=\"_blank\">docs</a>)<br>Sweep page: <a href='https://wandb.ai/24mcs102-national-institute-of-technology-hamirpur/fashion-mnist-sweep/sweeps/qg686r1n' target=\"_blank\">https://wandb.ai/24mcs102-national-institute-of-technology-hamirpur/fashion-mnist-sweep/sweeps/qg686r1n</a>"
            ]
          },
          "metadata": {}
        },
        {
          "output_type": "display_data",
          "data": {
            "text/plain": [
              "<IPython.core.display.HTML object>"
            ],
            "text/html": [
              " View project at <a href='https://wandb.ai/24mcs102-national-institute-of-technology-hamirpur/fashion-mnist-sweep' target=\"_blank\">https://wandb.ai/24mcs102-national-institute-of-technology-hamirpur/fashion-mnist-sweep</a>"
            ]
          },
          "metadata": {}
        },
        {
          "output_type": "display_data",
          "data": {
            "text/plain": [
              "<IPython.core.display.HTML object>"
            ],
            "text/html": [
              " View sweep at <a href='https://wandb.ai/24mcs102-national-institute-of-technology-hamirpur/fashion-mnist-sweep/sweeps/qg686r1n' target=\"_blank\">https://wandb.ai/24mcs102-national-institute-of-technology-hamirpur/fashion-mnist-sweep/sweeps/qg686r1n</a>"
            ]
          },
          "metadata": {}
        },
        {
          "output_type": "display_data",
          "data": {
            "text/plain": [
              "<IPython.core.display.HTML object>"
            ],
            "text/html": [
              " View run at <a href='https://wandb.ai/24mcs102-national-institute-of-technology-hamirpur/fashion-mnist-sweep/runs/krynf9de' target=\"_blank\">https://wandb.ai/24mcs102-national-institute-of-technology-hamirpur/fashion-mnist-sweep/runs/krynf9de</a>"
            ]
          },
          "metadata": {}
        },
        {
          "output_type": "stream",
          "name": "stdout",
          "text": [
            "Epoch 0: Training Loss = 2.3449, Validation Loss = 2.1471\n"
          ]
        },
        {
          "output_type": "display_data",
          "data": {
            "text/plain": [
              "<IPython.core.display.HTML object>"
            ],
            "text/html": []
          },
          "metadata": {}
        },
        {
          "output_type": "display_data",
          "data": {
            "text/plain": [
              "<IPython.core.display.HTML object>"
            ],
            "text/html": [
              "<br>    <style><br>        .wandb-row {<br>            display: flex;<br>            flex-direction: row;<br>            flex-wrap: wrap;<br>            justify-content: flex-start;<br>            width: 100%;<br>        }<br>        .wandb-col {<br>            display: flex;<br>            flex-direction: column;<br>            flex-basis: 100%;<br>            flex: 1;<br>            padding: 10px;<br>        }<br>    </style><br><div class=\"wandb-row\"><div class=\"wandb-col\"><h3>Run history:</h3><br/><table class=\"wandb\"><tr><td>Training Loss</td><td>█▂▇▅▁</td></tr><tr><td>Validation Loss</td><td>█▆▅▃▁</td></tr></table><br/></div><div class=\"wandb-col\"><h3>Run summary:</h3><br/><table class=\"wandb\"><tr><td>Training Loss</td><td>2.19424</td></tr><tr><td>Validation Loss</td><td>2.13255</td></tr></table><br/></div></div>"
            ]
          },
          "metadata": {}
        },
        {
          "output_type": "display_data",
          "data": {
            "text/plain": [
              "<IPython.core.display.HTML object>"
            ],
            "text/html": [
              " View run <strong style=\"color:#cdcd00\">generous-sweep-3</strong> at: <a href='https://wandb.ai/24mcs102-national-institute-of-technology-hamirpur/fashion-mnist-sweep/runs/krynf9de' target=\"_blank\">https://wandb.ai/24mcs102-national-institute-of-technology-hamirpur/fashion-mnist-sweep/runs/krynf9de</a><br> View project at: <a href='https://wandb.ai/24mcs102-national-institute-of-technology-hamirpur/fashion-mnist-sweep' target=\"_blank\">https://wandb.ai/24mcs102-national-institute-of-technology-hamirpur/fashion-mnist-sweep</a><br>Synced 5 W&B file(s), 0 media file(s), 0 artifact file(s) and 0 other file(s)"
            ]
          },
          "metadata": {}
        },
        {
          "output_type": "display_data",
          "data": {
            "text/plain": [
              "<IPython.core.display.HTML object>"
            ],
            "text/html": [
              "Find logs at: <code>./wandb/run-20250309_083911-krynf9de/logs</code>"
            ]
          },
          "metadata": {}
        },
        {
          "output_type": "stream",
          "name": "stderr",
          "text": [
            "\u001b[34m\u001b[1mwandb\u001b[0m: Agent Starting Run: b2x7524p with config:\n",
            "\u001b[34m\u001b[1mwandb\u001b[0m: \tactivation: ReLU\n",
            "\u001b[34m\u001b[1mwandb\u001b[0m: \tbatch_size: 16\n",
            "\u001b[34m\u001b[1mwandb\u001b[0m: \tepochs: 5\n",
            "\u001b[34m\u001b[1mwandb\u001b[0m: \thidden_layers: 2\n",
            "\u001b[34m\u001b[1mwandb\u001b[0m: \tlayer_size: 32\n",
            "\u001b[34m\u001b[1mwandb\u001b[0m: \tlearning_rate: 0.001\n",
            "\u001b[34m\u001b[1mwandb\u001b[0m: \toptimizer: SGD\n",
            "\u001b[34m\u001b[1mwandb\u001b[0m: \tweight_decay: 0.0005\n",
            "\u001b[34m\u001b[1mwandb\u001b[0m: \tweight_init: Xavier\n"
          ]
        },
        {
          "output_type": "display_data",
          "data": {
            "text/plain": [
              "<IPython.core.display.HTML object>"
            ],
            "text/html": [
              "Tracking run with wandb version 0.19.7"
            ]
          },
          "metadata": {}
        },
        {
          "output_type": "display_data",
          "data": {
            "text/plain": [
              "<IPython.core.display.HTML object>"
            ],
            "text/html": [
              "Run data is saved locally in <code>/content/wandb/run-20250309_083917-b2x7524p</code>"
            ]
          },
          "metadata": {}
        },
        {
          "output_type": "display_data",
          "data": {
            "text/plain": [
              "<IPython.core.display.HTML object>"
            ],
            "text/html": [
              "Syncing run <strong><a href='https://wandb.ai/24mcs102-national-institute-of-technology-hamirpur/fashion-mnist-sweep/runs/b2x7524p' target=\"_blank\">legendary-sweep-4</a></strong> to <a href='https://wandb.ai/24mcs102-national-institute-of-technology-hamirpur/fashion-mnist-sweep' target=\"_blank\">Weights & Biases</a> (<a href='https://wandb.me/developer-guide' target=\"_blank\">docs</a>)<br>Sweep page: <a href='https://wandb.ai/24mcs102-national-institute-of-technology-hamirpur/fashion-mnist-sweep/sweeps/qg686r1n' target=\"_blank\">https://wandb.ai/24mcs102-national-institute-of-technology-hamirpur/fashion-mnist-sweep/sweeps/qg686r1n</a>"
            ]
          },
          "metadata": {}
        },
        {
          "output_type": "display_data",
          "data": {
            "text/plain": [
              "<IPython.core.display.HTML object>"
            ],
            "text/html": [
              " View project at <a href='https://wandb.ai/24mcs102-national-institute-of-technology-hamirpur/fashion-mnist-sweep' target=\"_blank\">https://wandb.ai/24mcs102-national-institute-of-technology-hamirpur/fashion-mnist-sweep</a>"
            ]
          },
          "metadata": {}
        },
        {
          "output_type": "display_data",
          "data": {
            "text/plain": [
              "<IPython.core.display.HTML object>"
            ],
            "text/html": [
              " View sweep at <a href='https://wandb.ai/24mcs102-national-institute-of-technology-hamirpur/fashion-mnist-sweep/sweeps/qg686r1n' target=\"_blank\">https://wandb.ai/24mcs102-national-institute-of-technology-hamirpur/fashion-mnist-sweep/sweeps/qg686r1n</a>"
            ]
          },
          "metadata": {}
        },
        {
          "output_type": "display_data",
          "data": {
            "text/plain": [
              "<IPython.core.display.HTML object>"
            ],
            "text/html": [
              " View run at <a href='https://wandb.ai/24mcs102-national-institute-of-technology-hamirpur/fashion-mnist-sweep/runs/b2x7524p' target=\"_blank\">https://wandb.ai/24mcs102-national-institute-of-technology-hamirpur/fashion-mnist-sweep/runs/b2x7524p</a>"
            ]
          },
          "metadata": {}
        },
        {
          "output_type": "stream",
          "name": "stdout",
          "text": [
            "Epoch 0: Training Loss = 2.2381, Validation Loss = 2.4318\n"
          ]
        },
        {
          "output_type": "display_data",
          "data": {
            "text/plain": [
              "<IPython.core.display.HTML object>"
            ],
            "text/html": []
          },
          "metadata": {}
        },
        {
          "output_type": "display_data",
          "data": {
            "text/plain": [
              "<IPython.core.display.HTML object>"
            ],
            "text/html": [
              "<br>    <style><br>        .wandb-row {<br>            display: flex;<br>            flex-direction: row;<br>            flex-wrap: wrap;<br>            justify-content: flex-start;<br>            width: 100%;<br>        }<br>        .wandb-col {<br>            display: flex;<br>            flex-direction: column;<br>            flex-basis: 100%;<br>            flex: 1;<br>            padding: 10px;<br>        }<br>    </style><br><div class=\"wandb-row\"><div class=\"wandb-col\"><h3>Run history:</h3><br/><table class=\"wandb\"><tr><td>Training Loss</td><td>▁▇█▄█</td></tr><tr><td>Validation Loss</td><td>▆█▄▃▁</td></tr></table><br/></div><div class=\"wandb-col\"><h3>Run summary:</h3><br/><table class=\"wandb\"><tr><td>Training Loss</td><td>2.35538</td></tr><tr><td>Validation Loss</td><td>2.42892</td></tr></table><br/></div></div>"
            ]
          },
          "metadata": {}
        },
        {
          "output_type": "display_data",
          "data": {
            "text/plain": [
              "<IPython.core.display.HTML object>"
            ],
            "text/html": [
              " View run <strong style=\"color:#cdcd00\">legendary-sweep-4</strong> at: <a href='https://wandb.ai/24mcs102-national-institute-of-technology-hamirpur/fashion-mnist-sweep/runs/b2x7524p' target=\"_blank\">https://wandb.ai/24mcs102-national-institute-of-technology-hamirpur/fashion-mnist-sweep/runs/b2x7524p</a><br> View project at: <a href='https://wandb.ai/24mcs102-national-institute-of-technology-hamirpur/fashion-mnist-sweep' target=\"_blank\">https://wandb.ai/24mcs102-national-institute-of-technology-hamirpur/fashion-mnist-sweep</a><br>Synced 5 W&B file(s), 0 media file(s), 0 artifact file(s) and 0 other file(s)"
            ]
          },
          "metadata": {}
        },
        {
          "output_type": "display_data",
          "data": {
            "text/plain": [
              "<IPython.core.display.HTML object>"
            ],
            "text/html": [
              "Find logs at: <code>./wandb/run-20250309_083917-b2x7524p/logs</code>"
            ]
          },
          "metadata": {}
        },
        {
          "output_type": "stream",
          "name": "stderr",
          "text": [
            "\u001b[34m\u001b[1mwandb\u001b[0m: Agent Starting Run: u5xkbj8u with config:\n",
            "\u001b[34m\u001b[1mwandb\u001b[0m: \tactivation: ReLU\n",
            "\u001b[34m\u001b[1mwandb\u001b[0m: \tbatch_size: 16\n",
            "\u001b[34m\u001b[1mwandb\u001b[0m: \tepochs: 5\n",
            "\u001b[34m\u001b[1mwandb\u001b[0m: \thidden_layers: 2\n",
            "\u001b[34m\u001b[1mwandb\u001b[0m: \tlayer_size: 32\n",
            "\u001b[34m\u001b[1mwandb\u001b[0m: \tlearning_rate: 0.001\n",
            "\u001b[34m\u001b[1mwandb\u001b[0m: \toptimizer: SGD\n",
            "\u001b[34m\u001b[1mwandb\u001b[0m: \tweight_decay: 0.0005\n",
            "\u001b[34m\u001b[1mwandb\u001b[0m: \tweight_init: Xavier\n"
          ]
        },
        {
          "output_type": "display_data",
          "data": {
            "text/plain": [
              "<IPython.core.display.HTML object>"
            ],
            "text/html": [
              "Tracking run with wandb version 0.19.7"
            ]
          },
          "metadata": {}
        },
        {
          "output_type": "display_data",
          "data": {
            "text/plain": [
              "<IPython.core.display.HTML object>"
            ],
            "text/html": [
              "Run data is saved locally in <code>/content/wandb/run-20250309_083922-u5xkbj8u</code>"
            ]
          },
          "metadata": {}
        },
        {
          "output_type": "display_data",
          "data": {
            "text/plain": [
              "<IPython.core.display.HTML object>"
            ],
            "text/html": [
              "Syncing run <strong><a href='https://wandb.ai/24mcs102-national-institute-of-technology-hamirpur/fashion-mnist-sweep/runs/u5xkbj8u' target=\"_blank\">lunar-sweep-5</a></strong> to <a href='https://wandb.ai/24mcs102-national-institute-of-technology-hamirpur/fashion-mnist-sweep' target=\"_blank\">Weights & Biases</a> (<a href='https://wandb.me/developer-guide' target=\"_blank\">docs</a>)<br>Sweep page: <a href='https://wandb.ai/24mcs102-national-institute-of-technology-hamirpur/fashion-mnist-sweep/sweeps/qg686r1n' target=\"_blank\">https://wandb.ai/24mcs102-national-institute-of-technology-hamirpur/fashion-mnist-sweep/sweeps/qg686r1n</a>"
            ]
          },
          "metadata": {}
        },
        {
          "output_type": "display_data",
          "data": {
            "text/plain": [
              "<IPython.core.display.HTML object>"
            ],
            "text/html": [
              " View project at <a href='https://wandb.ai/24mcs102-national-institute-of-technology-hamirpur/fashion-mnist-sweep' target=\"_blank\">https://wandb.ai/24mcs102-national-institute-of-technology-hamirpur/fashion-mnist-sweep</a>"
            ]
          },
          "metadata": {}
        },
        {
          "output_type": "display_data",
          "data": {
            "text/plain": [
              "<IPython.core.display.HTML object>"
            ],
            "text/html": [
              " View sweep at <a href='https://wandb.ai/24mcs102-national-institute-of-technology-hamirpur/fashion-mnist-sweep/sweeps/qg686r1n' target=\"_blank\">https://wandb.ai/24mcs102-national-institute-of-technology-hamirpur/fashion-mnist-sweep/sweeps/qg686r1n</a>"
            ]
          },
          "metadata": {}
        },
        {
          "output_type": "display_data",
          "data": {
            "text/plain": [
              "<IPython.core.display.HTML object>"
            ],
            "text/html": [
              " View run at <a href='https://wandb.ai/24mcs102-national-institute-of-technology-hamirpur/fashion-mnist-sweep/runs/u5xkbj8u' target=\"_blank\">https://wandb.ai/24mcs102-national-institute-of-technology-hamirpur/fashion-mnist-sweep/runs/u5xkbj8u</a>"
            ]
          },
          "metadata": {}
        },
        {
          "output_type": "stream",
          "name": "stdout",
          "text": [
            "Epoch 0: Training Loss = 2.2050, Validation Loss = 2.1501\n"
          ]
        },
        {
          "output_type": "display_data",
          "data": {
            "text/plain": [
              "<IPython.core.display.HTML object>"
            ],
            "text/html": []
          },
          "metadata": {}
        },
        {
          "output_type": "display_data",
          "data": {
            "text/plain": [
              "<IPython.core.display.HTML object>"
            ],
            "text/html": [
              "<br>    <style><br>        .wandb-row {<br>            display: flex;<br>            flex-direction: row;<br>            flex-wrap: wrap;<br>            justify-content: flex-start;<br>            width: 100%;<br>        }<br>        .wandb-col {<br>            display: flex;<br>            flex-direction: column;<br>            flex-basis: 100%;<br>            flex: 1;<br>            padding: 10px;<br>        }<br>    </style><br><div class=\"wandb-row\"><div class=\"wandb-col\"><h3>Run history:</h3><br/><table class=\"wandb\"><tr><td>Training Loss</td><td>▁▆█▇▆</td></tr><tr><td>Validation Loss</td><td>▁▃▅▆█</td></tr></table><br/></div><div class=\"wandb-col\"><h3>Run summary:</h3><br/><table class=\"wandb\"><tr><td>Training Loss</td><td>2.3234</td></tr><tr><td>Validation Loss</td><td>2.15688</td></tr></table><br/></div></div>"
            ]
          },
          "metadata": {}
        },
        {
          "output_type": "display_data",
          "data": {
            "text/plain": [
              "<IPython.core.display.HTML object>"
            ],
            "text/html": [
              " View run <strong style=\"color:#cdcd00\">lunar-sweep-5</strong> at: <a href='https://wandb.ai/24mcs102-national-institute-of-technology-hamirpur/fashion-mnist-sweep/runs/u5xkbj8u' target=\"_blank\">https://wandb.ai/24mcs102-national-institute-of-technology-hamirpur/fashion-mnist-sweep/runs/u5xkbj8u</a><br> View project at: <a href='https://wandb.ai/24mcs102-national-institute-of-technology-hamirpur/fashion-mnist-sweep' target=\"_blank\">https://wandb.ai/24mcs102-national-institute-of-technology-hamirpur/fashion-mnist-sweep</a><br>Synced 5 W&B file(s), 0 media file(s), 0 artifact file(s) and 0 other file(s)"
            ]
          },
          "metadata": {}
        },
        {
          "output_type": "display_data",
          "data": {
            "text/plain": [
              "<IPython.core.display.HTML object>"
            ],
            "text/html": [
              "Find logs at: <code>./wandb/run-20250309_083922-u5xkbj8u/logs</code>"
            ]
          },
          "metadata": {}
        }
      ]
    },
    {
      "cell_type": "code",
      "source": [
        "import numpy as np\n",
        "import torch\n",
        "import torch.nn as nn\n",
        "import torch.optim as optim\n",
        "import wandb\n",
        "import matplotlib.pyplot as plt\n",
        "from tensorflow.keras.datasets import fashion_mnist\n",
        "from sklearn.model_selection import train_test_split\n",
        "\n",
        "# Define a flexible neural network\n",
        "class FashionMNISTModel(nn.Module):\n",
        "    def __init__(self, input_size, hidden_layers, layer_size, output_size, activation, weight_init):\n",
        "        super(FashionMNISTModel, self).__init__()\n",
        "        layers = []\n",
        "        prev_size = input_size\n",
        "\n",
        "        for _ in range(hidden_layers):\n",
        "            layer = nn.Linear(prev_size, layer_size)\n",
        "            if weight_init == 'Xavier':\n",
        "                nn.init.xavier_uniform_(layer.weight)\n",
        "            layers.append(layer)\n",
        "            layers.append(activation())\n",
        "            prev_size = layer_size\n",
        "\n",
        "        layers.append(nn.Linear(prev_size, output_size))\n",
        "        self.model = nn.Sequential(*layers)\n",
        "\n",
        "    def forward(self, x):\n",
        "        return self.model(x)\n",
        "\n",
        "# Training function\n",
        "def train_network(config=None):\n",
        "    with wandb.init(config=config):\n",
        "        config = wandb.config\n",
        "\n",
        "        # Give meaningful run names (e.g., hl_3_bs_16_ac_tanh)\n",
        "        run_name = f\"hl_{config.hidden_layers}_bs_{config.batch_size}_ac_{config.activation}\"\n",
        "        wandb.run.name = run_name\n",
        "\n",
        "        # Load dataset\n",
        "        (X_train, y_train), (X_test, y_test) = fashion_mnist.load_data()\n",
        "        X_train = X_train.reshape(X_train.shape[0], -1) / 255.0\n",
        "        X_test = X_test.reshape(X_test.shape[0], -1) / 255.0\n",
        "\n",
        "        # Select only 20 random samples\n",
        "        random_indices = np.random.choice(len(X_train), 20, replace=False)\n",
        "        X_train, y_train = X_train[random_indices], y_train[random_indices]\n",
        "\n",
        "        # Split into train and validation sets (90% train, 10% validation)\n",
        "        X_train, X_val, y_train, y_val = train_test_split(X_train, y_train, test_size=0.1, random_state=42)\n",
        "\n",
        "        # Convert to PyTorch tensors\n",
        "        tensor_x_train = torch.tensor(X_train, dtype=torch.float32)\n",
        "        tensor_y_train = torch.tensor(y_train, dtype=torch.long)\n",
        "        train_loader = torch.utils.data.DataLoader(torch.utils.data.TensorDataset(tensor_x_train, tensor_y_train),\n",
        "                                                   batch_size=config.batch_size, shuffle=True)\n",
        "\n",
        "        tensor_x_val = torch.tensor(X_val, dtype=torch.float32)\n",
        "        tensor_y_val = torch.tensor(y_val, dtype=torch.long)\n",
        "        val_loader = torch.utils.data.DataLoader(torch.utils.data.TensorDataset(tensor_x_val, tensor_y_val),\n",
        "                                                 batch_size=config.batch_size, shuffle=False)\n",
        "\n",
        "        # Initialize model\n",
        "        activation_fn = {'sigmoid': nn.Sigmoid, 'tanh': nn.Tanh, 'ReLU': nn.ReLU}[config.activation]\n",
        "        model = FashionMNISTModel(X_train.shape[1], config.hidden_layers, config.layer_size, 10,\n",
        "                                  activation=activation_fn, weight_init=config.weight_init)\n",
        "\n",
        "        # Define optimizer\n",
        "        optimizer = getattr(optim, config.optimizer)(model.parameters(), lr=config.learning_rate, weight_decay=config.weight_decay)\n",
        "        criterion = nn.CrossEntropyLoss()\n",
        "\n",
        "        # Tracking loss for visualization\n",
        "        train_losses = []\n",
        "        val_losses = []\n",
        "\n",
        "        # Training loop\n",
        "        for epoch in range(config.epochs):\n",
        "            model.train()\n",
        "            epoch_loss = 0\n",
        "            for data, target in train_loader:\n",
        "                optimizer.zero_grad()\n",
        "                output = model(data)\n",
        "                loss = criterion(output, target)\n",
        "                loss.backward()\n",
        "                optimizer.step()\n",
        "                epoch_loss += loss.item()\n",
        "\n",
        "            avg_train_loss = epoch_loss / len(train_loader)\n",
        "            train_losses.append(avg_train_loss)\n",
        "            wandb.log({\"Training Loss\": avg_train_loss})\n",
        "\n",
        "            # Validation\n",
        "            model.eval()\n",
        "            val_loss = 0\n",
        "            with torch.no_grad():\n",
        "                for data, target in val_loader:\n",
        "                    output = model(data)\n",
        "                    loss = criterion(output, target)\n",
        "                    val_loss += loss.item()\n",
        "\n",
        "            avg_val_loss = val_loss / len(val_loader)\n",
        "            val_losses.append(avg_val_loss)\n",
        "            wandb.log({\"Validation Loss\": avg_val_loss})\n",
        "\n",
        "            if epoch % 5 == 0:\n",
        "                print(f\"Epoch {epoch}: Training Loss = {avg_train_loss:.4f}, Validation Loss = {avg_val_loss:.4f}\")\n",
        "\n",
        "        # Generate and log plots\n",
        "        plt.figure(figsize=(8, 5))\n",
        "        plt.plot(range(config.epochs), train_losses, label=\"Training Loss\")\n",
        "        plt.plot(range(config.epochs), val_losses, label=\"Validation Loss\")\n",
        "        plt.xlabel(\"Epochs\")\n",
        "        plt.ylabel(\"Loss\")\n",
        "        plt.title(f\"Loss Curve: {run_name}\")\n",
        "        plt.legend()\n",
        "        plt.grid()\n",
        "\n",
        "        # Save and log plot to WandB\n",
        "        plt.savefig(f\"{run_name}.png\")\n",
        "        wandb.log({f\"Loss Curve ({run_name})\": wandb.Image(f\"{run_name}.png\")})\n",
        "\n",
        "        # Summary\n",
        "        wandb.summary[\"Final Training Loss\"] = train_losses[-1]\n",
        "        wandb.summary[\"Final Validation Loss\"] = val_losses[-1]\n",
        "\n",
        "# Define WandB Sweep Configuration\n",
        "sweep_config = {\n",
        "    \"method\": \"bayes\",  # Bayesian optimization for efficient search\n",
        "    \"metric\": {\"name\": \"Validation Loss\", \"goal\": \"minimize\"},\n",
        "    \"parameters\": {\n",
        "        \"epochs\": {\"values\": [5]},  # Reduced epochs for quicker experiments\n",
        "        \"hidden_layers\": {\"values\": [2]},  # Reduced hidden layers for faster computation\n",
        "        \"layer_size\": {\"values\": [32]},  # Reduced layer size for faster computation\n",
        "        \"weight_decay\": {\"values\": [0.0005]},\n",
        "        \"learning_rate\": {\"values\": [1e-3]},\n",
        "        \"optimizer\": {\"values\": [\"SGD\"]},\n",
        "        \"batch_size\": {\"values\": [16]},  # Reduced batch size for faster training\n",
        "        \"weight_init\": {\"values\": [\"Xavier\"]},\n",
        "        \"activation\": {\"values\": [\"ReLU\"]}\n",
        "    }\n",
        "}\n",
        "\n",
        "# Initialize the sweep\n",
        "sweep_id = wandb.sweep(sweep_config, project=\"Ex-4-fashion-mnist-sweep\")\n",
        "\n",
        "# Run the sweep agent\n",
        "wandb.agent(sweep_id, function=train_network, count=5)\n"
      ],
      "metadata": {
        "colab": {
          "base_uri": "https://localhost:8080/",
          "height": 1000
        },
        "id": "SdNj7Iw6GW8V",
        "outputId": "ea0c068a-871e-46c3-8306-37e58dacc5e8"
      },
      "execution_count": 7,
      "outputs": [
        {
          "output_type": "stream",
          "name": "stdout",
          "text": [
            "Create sweep with ID: 3yi5q9je\n",
            "Sweep URL: https://wandb.ai/24mcs102-national-institute-of-technology-hamirpur/Ex-4-fashion-mnist-sweep/sweeps/3yi5q9je\n"
          ]
        },
        {
          "output_type": "stream",
          "name": "stderr",
          "text": [
            "\u001b[34m\u001b[1mwandb\u001b[0m: Agent Starting Run: xpebsmpb with config:\n",
            "\u001b[34m\u001b[1mwandb\u001b[0m: \tactivation: ReLU\n",
            "\u001b[34m\u001b[1mwandb\u001b[0m: \tbatch_size: 16\n",
            "\u001b[34m\u001b[1mwandb\u001b[0m: \tepochs: 5\n",
            "\u001b[34m\u001b[1mwandb\u001b[0m: \thidden_layers: 2\n",
            "\u001b[34m\u001b[1mwandb\u001b[0m: \tlayer_size: 32\n",
            "\u001b[34m\u001b[1mwandb\u001b[0m: \tlearning_rate: 0.001\n",
            "\u001b[34m\u001b[1mwandb\u001b[0m: \toptimizer: SGD\n",
            "\u001b[34m\u001b[1mwandb\u001b[0m: \tweight_decay: 0.0005\n",
            "\u001b[34m\u001b[1mwandb\u001b[0m: \tweight_init: Xavier\n"
          ]
        },
        {
          "output_type": "display_data",
          "data": {
            "text/plain": [
              "<IPython.core.display.HTML object>"
            ],
            "text/html": [
              "Tracking run with wandb version 0.19.7"
            ]
          },
          "metadata": {}
        },
        {
          "output_type": "display_data",
          "data": {
            "text/plain": [
              "<IPython.core.display.HTML object>"
            ],
            "text/html": [
              "Run data is saved locally in <code>/content/wandb/run-20250309_083926-xpebsmpb</code>"
            ]
          },
          "metadata": {}
        },
        {
          "output_type": "display_data",
          "data": {
            "text/plain": [
              "<IPython.core.display.HTML object>"
            ],
            "text/html": [
              "Syncing run <strong><a href='https://wandb.ai/24mcs102-national-institute-of-technology-hamirpur/Ex-4-fashion-mnist-sweep/runs/xpebsmpb' target=\"_blank\">laced-sweep-1</a></strong> to <a href='https://wandb.ai/24mcs102-national-institute-of-technology-hamirpur/Ex-4-fashion-mnist-sweep' target=\"_blank\">Weights & Biases</a> (<a href='https://wandb.me/developer-guide' target=\"_blank\">docs</a>)<br>Sweep page: <a href='https://wandb.ai/24mcs102-national-institute-of-technology-hamirpur/Ex-4-fashion-mnist-sweep/sweeps/3yi5q9je' target=\"_blank\">https://wandb.ai/24mcs102-national-institute-of-technology-hamirpur/Ex-4-fashion-mnist-sweep/sweeps/3yi5q9je</a>"
            ]
          },
          "metadata": {}
        },
        {
          "output_type": "display_data",
          "data": {
            "text/plain": [
              "<IPython.core.display.HTML object>"
            ],
            "text/html": [
              " View project at <a href='https://wandb.ai/24mcs102-national-institute-of-technology-hamirpur/Ex-4-fashion-mnist-sweep' target=\"_blank\">https://wandb.ai/24mcs102-national-institute-of-technology-hamirpur/Ex-4-fashion-mnist-sweep</a>"
            ]
          },
          "metadata": {}
        },
        {
          "output_type": "display_data",
          "data": {
            "text/plain": [
              "<IPython.core.display.HTML object>"
            ],
            "text/html": [
              " View sweep at <a href='https://wandb.ai/24mcs102-national-institute-of-technology-hamirpur/Ex-4-fashion-mnist-sweep/sweeps/3yi5q9je' target=\"_blank\">https://wandb.ai/24mcs102-national-institute-of-technology-hamirpur/Ex-4-fashion-mnist-sweep/sweeps/3yi5q9je</a>"
            ]
          },
          "metadata": {}
        },
        {
          "output_type": "display_data",
          "data": {
            "text/plain": [
              "<IPython.core.display.HTML object>"
            ],
            "text/html": [
              " View run at <a href='https://wandb.ai/24mcs102-national-institute-of-technology-hamirpur/Ex-4-fashion-mnist-sweep/runs/xpebsmpb' target=\"_blank\">https://wandb.ai/24mcs102-national-institute-of-technology-hamirpur/Ex-4-fashion-mnist-sweep/runs/xpebsmpb</a>"
            ]
          },
          "metadata": {}
        },
        {
          "output_type": "stream",
          "name": "stdout",
          "text": [
            "Epoch 0: Training Loss = 2.2482, Validation Loss = 2.4891\n"
          ]
        },
        {
          "output_type": "display_data",
          "data": {
            "text/plain": [
              "<IPython.core.display.HTML object>"
            ],
            "text/html": []
          },
          "metadata": {}
        },
        {
          "output_type": "display_data",
          "data": {
            "text/plain": [
              "<IPython.core.display.HTML object>"
            ],
            "text/html": [
              "<br>    <style><br>        .wandb-row {<br>            display: flex;<br>            flex-direction: row;<br>            flex-wrap: wrap;<br>            justify-content: flex-start;<br>            width: 100%;<br>        }<br>        .wandb-col {<br>            display: flex;<br>            flex-direction: column;<br>            flex-basis: 100%;<br>            flex: 1;<br>            padding: 10px;<br>        }<br>    </style><br><div class=\"wandb-row\"><div class=\"wandb-col\"><h3>Run history:</h3><br/><table class=\"wandb\"><tr><td>Training Loss</td><td>▁▃▇█▄</td></tr><tr><td>Validation Loss</td><td>▇█▇▃▁</td></tr></table><br/></div><div class=\"wandb-col\"><h3>Run summary:</h3><br/><table class=\"wandb\"><tr><td>Final Training Loss</td><td>2.30562</td></tr><tr><td>Final Validation Loss</td><td>2.48339</td></tr><tr><td>Training Loss</td><td>2.30562</td></tr><tr><td>Validation Loss</td><td>2.48339</td></tr></table><br/></div></div>"
            ]
          },
          "metadata": {}
        },
        {
          "output_type": "display_data",
          "data": {
            "text/plain": [
              "<IPython.core.display.HTML object>"
            ],
            "text/html": [
              " View run <strong style=\"color:#cdcd00\">hl_2_bs_16_ac_ReLU</strong> at: <a href='https://wandb.ai/24mcs102-national-institute-of-technology-hamirpur/Ex-4-fashion-mnist-sweep/runs/xpebsmpb' target=\"_blank\">https://wandb.ai/24mcs102-national-institute-of-technology-hamirpur/Ex-4-fashion-mnist-sweep/runs/xpebsmpb</a><br> View project at: <a href='https://wandb.ai/24mcs102-national-institute-of-technology-hamirpur/Ex-4-fashion-mnist-sweep' target=\"_blank\">https://wandb.ai/24mcs102-national-institute-of-technology-hamirpur/Ex-4-fashion-mnist-sweep</a><br>Synced 5 W&B file(s), 1 media file(s), 0 artifact file(s) and 0 other file(s)"
            ]
          },
          "metadata": {}
        },
        {
          "output_type": "display_data",
          "data": {
            "text/plain": [
              "<IPython.core.display.HTML object>"
            ],
            "text/html": [
              "Find logs at: <code>./wandb/run-20250309_083926-xpebsmpb/logs</code>"
            ]
          },
          "metadata": {}
        },
        {
          "output_type": "stream",
          "name": "stderr",
          "text": [
            "\u001b[34m\u001b[1mwandb\u001b[0m: Agent Starting Run: 3s7gpi7o with config:\n",
            "\u001b[34m\u001b[1mwandb\u001b[0m: \tactivation: ReLU\n",
            "\u001b[34m\u001b[1mwandb\u001b[0m: \tbatch_size: 16\n",
            "\u001b[34m\u001b[1mwandb\u001b[0m: \tepochs: 5\n",
            "\u001b[34m\u001b[1mwandb\u001b[0m: \thidden_layers: 2\n",
            "\u001b[34m\u001b[1mwandb\u001b[0m: \tlayer_size: 32\n",
            "\u001b[34m\u001b[1mwandb\u001b[0m: \tlearning_rate: 0.001\n",
            "\u001b[34m\u001b[1mwandb\u001b[0m: \toptimizer: SGD\n",
            "\u001b[34m\u001b[1mwandb\u001b[0m: \tweight_decay: 0.0005\n",
            "\u001b[34m\u001b[1mwandb\u001b[0m: \tweight_init: Xavier\n"
          ]
        },
        {
          "output_type": "display_data",
          "data": {
            "text/plain": [
              "<IPython.core.display.HTML object>"
            ],
            "text/html": [
              "Tracking run with wandb version 0.19.7"
            ]
          },
          "metadata": {}
        },
        {
          "output_type": "display_data",
          "data": {
            "text/plain": [
              "<IPython.core.display.HTML object>"
            ],
            "text/html": [
              "Run data is saved locally in <code>/content/wandb/run-20250309_083932-3s7gpi7o</code>"
            ]
          },
          "metadata": {}
        },
        {
          "output_type": "display_data",
          "data": {
            "text/plain": [
              "<IPython.core.display.HTML object>"
            ],
            "text/html": [
              "Syncing run <strong><a href='https://wandb.ai/24mcs102-national-institute-of-technology-hamirpur/Ex-4-fashion-mnist-sweep/runs/3s7gpi7o' target=\"_blank\">firm-sweep-2</a></strong> to <a href='https://wandb.ai/24mcs102-national-institute-of-technology-hamirpur/Ex-4-fashion-mnist-sweep' target=\"_blank\">Weights & Biases</a> (<a href='https://wandb.me/developer-guide' target=\"_blank\">docs</a>)<br>Sweep page: <a href='https://wandb.ai/24mcs102-national-institute-of-technology-hamirpur/Ex-4-fashion-mnist-sweep/sweeps/3yi5q9je' target=\"_blank\">https://wandb.ai/24mcs102-national-institute-of-technology-hamirpur/Ex-4-fashion-mnist-sweep/sweeps/3yi5q9je</a>"
            ]
          },
          "metadata": {}
        },
        {
          "output_type": "display_data",
          "data": {
            "text/plain": [
              "<IPython.core.display.HTML object>"
            ],
            "text/html": [
              " View project at <a href='https://wandb.ai/24mcs102-national-institute-of-technology-hamirpur/Ex-4-fashion-mnist-sweep' target=\"_blank\">https://wandb.ai/24mcs102-national-institute-of-technology-hamirpur/Ex-4-fashion-mnist-sweep</a>"
            ]
          },
          "metadata": {}
        },
        {
          "output_type": "display_data",
          "data": {
            "text/plain": [
              "<IPython.core.display.HTML object>"
            ],
            "text/html": [
              " View sweep at <a href='https://wandb.ai/24mcs102-national-institute-of-technology-hamirpur/Ex-4-fashion-mnist-sweep/sweeps/3yi5q9je' target=\"_blank\">https://wandb.ai/24mcs102-national-institute-of-technology-hamirpur/Ex-4-fashion-mnist-sweep/sweeps/3yi5q9je</a>"
            ]
          },
          "metadata": {}
        },
        {
          "output_type": "display_data",
          "data": {
            "text/plain": [
              "<IPython.core.display.HTML object>"
            ],
            "text/html": [
              " View run at <a href='https://wandb.ai/24mcs102-national-institute-of-technology-hamirpur/Ex-4-fashion-mnist-sweep/runs/3s7gpi7o' target=\"_blank\">https://wandb.ai/24mcs102-national-institute-of-technology-hamirpur/Ex-4-fashion-mnist-sweep/runs/3s7gpi7o</a>"
            ]
          },
          "metadata": {}
        },
        {
          "output_type": "stream",
          "name": "stdout",
          "text": [
            "Epoch 0: Training Loss = 2.3858, Validation Loss = 2.3102\n"
          ]
        },
        {
          "output_type": "display_data",
          "data": {
            "text/plain": [
              "<IPython.core.display.HTML object>"
            ],
            "text/html": []
          },
          "metadata": {}
        },
        {
          "output_type": "display_data",
          "data": {
            "text/plain": [
              "<IPython.core.display.HTML object>"
            ],
            "text/html": [
              "<br>    <style><br>        .wandb-row {<br>            display: flex;<br>            flex-direction: row;<br>            flex-wrap: wrap;<br>            justify-content: flex-start;<br>            width: 100%;<br>        }<br>        .wandb-col {<br>            display: flex;<br>            flex-direction: column;<br>            flex-basis: 100%;<br>            flex: 1;<br>            padding: 10px;<br>        }<br>    </style><br><div class=\"wandb-row\"><div class=\"wandb-col\"><h3>Run history:</h3><br/><table class=\"wandb\"><tr><td>Training Loss</td><td>█▁▂▆▂</td></tr><tr><td>Validation Loss</td><td>▁▂▅▆█</td></tr></table><br/></div><div class=\"wandb-col\"><h3>Run summary:</h3><br/><table class=\"wandb\"><tr><td>Final Training Loss</td><td>2.2167</td></tr><tr><td>Final Validation Loss</td><td>2.31275</td></tr><tr><td>Training Loss</td><td>2.2167</td></tr><tr><td>Validation Loss</td><td>2.31275</td></tr></table><br/></div></div>"
            ]
          },
          "metadata": {}
        },
        {
          "output_type": "display_data",
          "data": {
            "text/plain": [
              "<IPython.core.display.HTML object>"
            ],
            "text/html": [
              " View run <strong style=\"color:#cdcd00\">hl_2_bs_16_ac_ReLU</strong> at: <a href='https://wandb.ai/24mcs102-national-institute-of-technology-hamirpur/Ex-4-fashion-mnist-sweep/runs/3s7gpi7o' target=\"_blank\">https://wandb.ai/24mcs102-national-institute-of-technology-hamirpur/Ex-4-fashion-mnist-sweep/runs/3s7gpi7o</a><br> View project at: <a href='https://wandb.ai/24mcs102-national-institute-of-technology-hamirpur/Ex-4-fashion-mnist-sweep' target=\"_blank\">https://wandb.ai/24mcs102-national-institute-of-technology-hamirpur/Ex-4-fashion-mnist-sweep</a><br>Synced 5 W&B file(s), 1 media file(s), 0 artifact file(s) and 0 other file(s)"
            ]
          },
          "metadata": {}
        },
        {
          "output_type": "display_data",
          "data": {
            "text/plain": [
              "<IPython.core.display.HTML object>"
            ],
            "text/html": [
              "Find logs at: <code>./wandb/run-20250309_083932-3s7gpi7o/logs</code>"
            ]
          },
          "metadata": {}
        },
        {
          "output_type": "stream",
          "name": "stderr",
          "text": [
            "\u001b[34m\u001b[1mwandb\u001b[0m: Agent Starting Run: s7zhu8zk with config:\n",
            "\u001b[34m\u001b[1mwandb\u001b[0m: \tactivation: ReLU\n",
            "\u001b[34m\u001b[1mwandb\u001b[0m: \tbatch_size: 16\n",
            "\u001b[34m\u001b[1mwandb\u001b[0m: \tepochs: 5\n",
            "\u001b[34m\u001b[1mwandb\u001b[0m: \thidden_layers: 2\n",
            "\u001b[34m\u001b[1mwandb\u001b[0m: \tlayer_size: 32\n",
            "\u001b[34m\u001b[1mwandb\u001b[0m: \tlearning_rate: 0.001\n",
            "\u001b[34m\u001b[1mwandb\u001b[0m: \toptimizer: SGD\n",
            "\u001b[34m\u001b[1mwandb\u001b[0m: \tweight_decay: 0.0005\n",
            "\u001b[34m\u001b[1mwandb\u001b[0m: \tweight_init: Xavier\n"
          ]
        },
        {
          "output_type": "display_data",
          "data": {
            "text/plain": [
              "<IPython.core.display.HTML object>"
            ],
            "text/html": [
              "Tracking run with wandb version 0.19.7"
            ]
          },
          "metadata": {}
        },
        {
          "output_type": "display_data",
          "data": {
            "text/plain": [
              "<IPython.core.display.HTML object>"
            ],
            "text/html": [
              "Run data is saved locally in <code>/content/wandb/run-20250309_083937-s7zhu8zk</code>"
            ]
          },
          "metadata": {}
        },
        {
          "output_type": "display_data",
          "data": {
            "text/plain": [
              "<IPython.core.display.HTML object>"
            ],
            "text/html": [
              "Syncing run <strong><a href='https://wandb.ai/24mcs102-national-institute-of-technology-hamirpur/Ex-4-fashion-mnist-sweep/runs/s7zhu8zk' target=\"_blank\">toasty-sweep-3</a></strong> to <a href='https://wandb.ai/24mcs102-national-institute-of-technology-hamirpur/Ex-4-fashion-mnist-sweep' target=\"_blank\">Weights & Biases</a> (<a href='https://wandb.me/developer-guide' target=\"_blank\">docs</a>)<br>Sweep page: <a href='https://wandb.ai/24mcs102-national-institute-of-technology-hamirpur/Ex-4-fashion-mnist-sweep/sweeps/3yi5q9je' target=\"_blank\">https://wandb.ai/24mcs102-national-institute-of-technology-hamirpur/Ex-4-fashion-mnist-sweep/sweeps/3yi5q9je</a>"
            ]
          },
          "metadata": {}
        },
        {
          "output_type": "display_data",
          "data": {
            "text/plain": [
              "<IPython.core.display.HTML object>"
            ],
            "text/html": [
              " View project at <a href='https://wandb.ai/24mcs102-national-institute-of-technology-hamirpur/Ex-4-fashion-mnist-sweep' target=\"_blank\">https://wandb.ai/24mcs102-national-institute-of-technology-hamirpur/Ex-4-fashion-mnist-sweep</a>"
            ]
          },
          "metadata": {}
        },
        {
          "output_type": "display_data",
          "data": {
            "text/plain": [
              "<IPython.core.display.HTML object>"
            ],
            "text/html": [
              " View sweep at <a href='https://wandb.ai/24mcs102-national-institute-of-technology-hamirpur/Ex-4-fashion-mnist-sweep/sweeps/3yi5q9je' target=\"_blank\">https://wandb.ai/24mcs102-national-institute-of-technology-hamirpur/Ex-4-fashion-mnist-sweep/sweeps/3yi5q9je</a>"
            ]
          },
          "metadata": {}
        },
        {
          "output_type": "display_data",
          "data": {
            "text/plain": [
              "<IPython.core.display.HTML object>"
            ],
            "text/html": [
              " View run at <a href='https://wandb.ai/24mcs102-national-institute-of-technology-hamirpur/Ex-4-fashion-mnist-sweep/runs/s7zhu8zk' target=\"_blank\">https://wandb.ai/24mcs102-national-institute-of-technology-hamirpur/Ex-4-fashion-mnist-sweep/runs/s7zhu8zk</a>"
            ]
          },
          "metadata": {}
        },
        {
          "output_type": "stream",
          "name": "stdout",
          "text": [
            "Epoch 0: Training Loss = 2.3735, Validation Loss = 2.1003\n"
          ]
        },
        {
          "output_type": "display_data",
          "data": {
            "text/plain": [
              "<IPython.core.display.HTML object>"
            ],
            "text/html": []
          },
          "metadata": {}
        },
        {
          "output_type": "display_data",
          "data": {
            "text/plain": [
              "<IPython.core.display.HTML object>"
            ],
            "text/html": [
              "<br>    <style><br>        .wandb-row {<br>            display: flex;<br>            flex-direction: row;<br>            flex-wrap: wrap;<br>            justify-content: flex-start;<br>            width: 100%;<br>        }<br>        .wandb-col {<br>            display: flex;<br>            flex-direction: column;<br>            flex-basis: 100%;<br>            flex: 1;<br>            padding: 10px;<br>        }<br>    </style><br><div class=\"wandb-row\"><div class=\"wandb-col\"><h3>Run history:</h3><br/><table class=\"wandb\"><tr><td>Training Loss</td><td>█▁▁▁▄</td></tr><tr><td>Validation Loss</td><td>▁▅▅▅█</td></tr></table><br/></div><div class=\"wandb-col\"><h3>Run summary:</h3><br/><table class=\"wandb\"><tr><td>Final Training Loss</td><td>2.32088</td></tr><tr><td>Final Validation Loss</td><td>2.10441</td></tr><tr><td>Training Loss</td><td>2.32088</td></tr><tr><td>Validation Loss</td><td>2.10441</td></tr></table><br/></div></div>"
            ]
          },
          "metadata": {}
        },
        {
          "output_type": "display_data",
          "data": {
            "text/plain": [
              "<IPython.core.display.HTML object>"
            ],
            "text/html": [
              " View run <strong style=\"color:#cdcd00\">hl_2_bs_16_ac_ReLU</strong> at: <a href='https://wandb.ai/24mcs102-national-institute-of-technology-hamirpur/Ex-4-fashion-mnist-sweep/runs/s7zhu8zk' target=\"_blank\">https://wandb.ai/24mcs102-national-institute-of-technology-hamirpur/Ex-4-fashion-mnist-sweep/runs/s7zhu8zk</a><br> View project at: <a href='https://wandb.ai/24mcs102-national-institute-of-technology-hamirpur/Ex-4-fashion-mnist-sweep' target=\"_blank\">https://wandb.ai/24mcs102-national-institute-of-technology-hamirpur/Ex-4-fashion-mnist-sweep</a><br>Synced 5 W&B file(s), 1 media file(s), 0 artifact file(s) and 0 other file(s)"
            ]
          },
          "metadata": {}
        },
        {
          "output_type": "display_data",
          "data": {
            "text/plain": [
              "<IPython.core.display.HTML object>"
            ],
            "text/html": [
              "Find logs at: <code>./wandb/run-20250309_083937-s7zhu8zk/logs</code>"
            ]
          },
          "metadata": {}
        },
        {
          "output_type": "stream",
          "name": "stderr",
          "text": [
            "\u001b[34m\u001b[1mwandb\u001b[0m: Agent Starting Run: 6fwcmutl with config:\n",
            "\u001b[34m\u001b[1mwandb\u001b[0m: \tactivation: ReLU\n",
            "\u001b[34m\u001b[1mwandb\u001b[0m: \tbatch_size: 16\n",
            "\u001b[34m\u001b[1mwandb\u001b[0m: \tepochs: 5\n",
            "\u001b[34m\u001b[1mwandb\u001b[0m: \thidden_layers: 2\n",
            "\u001b[34m\u001b[1mwandb\u001b[0m: \tlayer_size: 32\n",
            "\u001b[34m\u001b[1mwandb\u001b[0m: \tlearning_rate: 0.001\n",
            "\u001b[34m\u001b[1mwandb\u001b[0m: \toptimizer: SGD\n",
            "\u001b[34m\u001b[1mwandb\u001b[0m: \tweight_decay: 0.0005\n",
            "\u001b[34m\u001b[1mwandb\u001b[0m: \tweight_init: Xavier\n"
          ]
        },
        {
          "output_type": "display_data",
          "data": {
            "text/plain": [
              "<IPython.core.display.HTML object>"
            ],
            "text/html": [
              "Tracking run with wandb version 0.19.7"
            ]
          },
          "metadata": {}
        },
        {
          "output_type": "display_data",
          "data": {
            "text/plain": [
              "<IPython.core.display.HTML object>"
            ],
            "text/html": [
              "Run data is saved locally in <code>/content/wandb/run-20250309_083943-6fwcmutl</code>"
            ]
          },
          "metadata": {}
        },
        {
          "output_type": "display_data",
          "data": {
            "text/plain": [
              "<IPython.core.display.HTML object>"
            ],
            "text/html": [
              "Syncing run <strong><a href='https://wandb.ai/24mcs102-national-institute-of-technology-hamirpur/Ex-4-fashion-mnist-sweep/runs/6fwcmutl' target=\"_blank\">olive-sweep-4</a></strong> to <a href='https://wandb.ai/24mcs102-national-institute-of-technology-hamirpur/Ex-4-fashion-mnist-sweep' target=\"_blank\">Weights & Biases</a> (<a href='https://wandb.me/developer-guide' target=\"_blank\">docs</a>)<br>Sweep page: <a href='https://wandb.ai/24mcs102-national-institute-of-technology-hamirpur/Ex-4-fashion-mnist-sweep/sweeps/3yi5q9je' target=\"_blank\">https://wandb.ai/24mcs102-national-institute-of-technology-hamirpur/Ex-4-fashion-mnist-sweep/sweeps/3yi5q9je</a>"
            ]
          },
          "metadata": {}
        },
        {
          "output_type": "display_data",
          "data": {
            "text/plain": [
              "<IPython.core.display.HTML object>"
            ],
            "text/html": [
              " View project at <a href='https://wandb.ai/24mcs102-national-institute-of-technology-hamirpur/Ex-4-fashion-mnist-sweep' target=\"_blank\">https://wandb.ai/24mcs102-national-institute-of-technology-hamirpur/Ex-4-fashion-mnist-sweep</a>"
            ]
          },
          "metadata": {}
        },
        {
          "output_type": "display_data",
          "data": {
            "text/plain": [
              "<IPython.core.display.HTML object>"
            ],
            "text/html": [
              " View sweep at <a href='https://wandb.ai/24mcs102-national-institute-of-technology-hamirpur/Ex-4-fashion-mnist-sweep/sweeps/3yi5q9je' target=\"_blank\">https://wandb.ai/24mcs102-national-institute-of-technology-hamirpur/Ex-4-fashion-mnist-sweep/sweeps/3yi5q9je</a>"
            ]
          },
          "metadata": {}
        },
        {
          "output_type": "display_data",
          "data": {
            "text/plain": [
              "<IPython.core.display.HTML object>"
            ],
            "text/html": [
              " View run at <a href='https://wandb.ai/24mcs102-national-institute-of-technology-hamirpur/Ex-4-fashion-mnist-sweep/runs/6fwcmutl' target=\"_blank\">https://wandb.ai/24mcs102-national-institute-of-technology-hamirpur/Ex-4-fashion-mnist-sweep/runs/6fwcmutl</a>"
            ]
          },
          "metadata": {}
        },
        {
          "output_type": "stream",
          "name": "stdout",
          "text": [
            "Epoch 0: Training Loss = 2.1693, Validation Loss = 2.0524\n"
          ]
        },
        {
          "output_type": "display_data",
          "data": {
            "text/plain": [
              "<IPython.core.display.HTML object>"
            ],
            "text/html": []
          },
          "metadata": {}
        },
        {
          "output_type": "display_data",
          "data": {
            "text/plain": [
              "<IPython.core.display.HTML object>"
            ],
            "text/html": [
              "<br>    <style><br>        .wandb-row {<br>            display: flex;<br>            flex-direction: row;<br>            flex-wrap: wrap;<br>            justify-content: flex-start;<br>            width: 100%;<br>        }<br>        .wandb-col {<br>            display: flex;<br>            flex-direction: column;<br>            flex-basis: 100%;<br>            flex: 1;<br>            padding: 10px;<br>        }<br>    </style><br><div class=\"wandb-row\"><div class=\"wandb-col\"><h3>Run history:</h3><br/><table class=\"wandb\"><tr><td>Training Loss</td><td>▁██▆▄</td></tr><tr><td>Validation Loss</td><td>▁▅██▂</td></tr></table><br/></div><div class=\"wandb-col\"><h3>Run summary:</h3><br/><table class=\"wandb\"><tr><td>Final Training Loss</td><td>2.27176</td></tr><tr><td>Final Validation Loss</td><td>2.05259</td></tr><tr><td>Training Loss</td><td>2.27176</td></tr><tr><td>Validation Loss</td><td>2.05259</td></tr></table><br/></div></div>"
            ]
          },
          "metadata": {}
        },
        {
          "output_type": "display_data",
          "data": {
            "text/plain": [
              "<IPython.core.display.HTML object>"
            ],
            "text/html": [
              " View run <strong style=\"color:#cdcd00\">hl_2_bs_16_ac_ReLU</strong> at: <a href='https://wandb.ai/24mcs102-national-institute-of-technology-hamirpur/Ex-4-fashion-mnist-sweep/runs/6fwcmutl' target=\"_blank\">https://wandb.ai/24mcs102-national-institute-of-technology-hamirpur/Ex-4-fashion-mnist-sweep/runs/6fwcmutl</a><br> View project at: <a href='https://wandb.ai/24mcs102-national-institute-of-technology-hamirpur/Ex-4-fashion-mnist-sweep' target=\"_blank\">https://wandb.ai/24mcs102-national-institute-of-technology-hamirpur/Ex-4-fashion-mnist-sweep</a><br>Synced 5 W&B file(s), 1 media file(s), 0 artifact file(s) and 0 other file(s)"
            ]
          },
          "metadata": {}
        },
        {
          "output_type": "display_data",
          "data": {
            "text/plain": [
              "<IPython.core.display.HTML object>"
            ],
            "text/html": [
              "Find logs at: <code>./wandb/run-20250309_083943-6fwcmutl/logs</code>"
            ]
          },
          "metadata": {}
        },
        {
          "output_type": "stream",
          "name": "stderr",
          "text": [
            "\u001b[34m\u001b[1mwandb\u001b[0m: Agent Starting Run: r8q67cwb with config:\n",
            "\u001b[34m\u001b[1mwandb\u001b[0m: \tactivation: ReLU\n",
            "\u001b[34m\u001b[1mwandb\u001b[0m: \tbatch_size: 16\n",
            "\u001b[34m\u001b[1mwandb\u001b[0m: \tepochs: 5\n",
            "\u001b[34m\u001b[1mwandb\u001b[0m: \thidden_layers: 2\n",
            "\u001b[34m\u001b[1mwandb\u001b[0m: \tlayer_size: 32\n",
            "\u001b[34m\u001b[1mwandb\u001b[0m: \tlearning_rate: 0.001\n",
            "\u001b[34m\u001b[1mwandb\u001b[0m: \toptimizer: SGD\n",
            "\u001b[34m\u001b[1mwandb\u001b[0m: \tweight_decay: 0.0005\n",
            "\u001b[34m\u001b[1mwandb\u001b[0m: \tweight_init: Xavier\n"
          ]
        },
        {
          "output_type": "display_data",
          "data": {
            "text/plain": [
              "<IPython.core.display.HTML object>"
            ],
            "text/html": [
              "Tracking run with wandb version 0.19.7"
            ]
          },
          "metadata": {}
        },
        {
          "output_type": "display_data",
          "data": {
            "text/plain": [
              "<IPython.core.display.HTML object>"
            ],
            "text/html": [
              "Run data is saved locally in <code>/content/wandb/run-20250309_083948-r8q67cwb</code>"
            ]
          },
          "metadata": {}
        },
        {
          "output_type": "display_data",
          "data": {
            "text/plain": [
              "<IPython.core.display.HTML object>"
            ],
            "text/html": [
              "Syncing run <strong><a href='https://wandb.ai/24mcs102-national-institute-of-technology-hamirpur/Ex-4-fashion-mnist-sweep/runs/r8q67cwb' target=\"_blank\">floral-sweep-5</a></strong> to <a href='https://wandb.ai/24mcs102-national-institute-of-technology-hamirpur/Ex-4-fashion-mnist-sweep' target=\"_blank\">Weights & Biases</a> (<a href='https://wandb.me/developer-guide' target=\"_blank\">docs</a>)<br>Sweep page: <a href='https://wandb.ai/24mcs102-national-institute-of-technology-hamirpur/Ex-4-fashion-mnist-sweep/sweeps/3yi5q9je' target=\"_blank\">https://wandb.ai/24mcs102-national-institute-of-technology-hamirpur/Ex-4-fashion-mnist-sweep/sweeps/3yi5q9je</a>"
            ]
          },
          "metadata": {}
        },
        {
          "output_type": "display_data",
          "data": {
            "text/plain": [
              "<IPython.core.display.HTML object>"
            ],
            "text/html": [
              " View project at <a href='https://wandb.ai/24mcs102-national-institute-of-technology-hamirpur/Ex-4-fashion-mnist-sweep' target=\"_blank\">https://wandb.ai/24mcs102-national-institute-of-technology-hamirpur/Ex-4-fashion-mnist-sweep</a>"
            ]
          },
          "metadata": {}
        },
        {
          "output_type": "display_data",
          "data": {
            "text/plain": [
              "<IPython.core.display.HTML object>"
            ],
            "text/html": [
              " View sweep at <a href='https://wandb.ai/24mcs102-national-institute-of-technology-hamirpur/Ex-4-fashion-mnist-sweep/sweeps/3yi5q9je' target=\"_blank\">https://wandb.ai/24mcs102-national-institute-of-technology-hamirpur/Ex-4-fashion-mnist-sweep/sweeps/3yi5q9je</a>"
            ]
          },
          "metadata": {}
        },
        {
          "output_type": "display_data",
          "data": {
            "text/plain": [
              "<IPython.core.display.HTML object>"
            ],
            "text/html": [
              " View run at <a href='https://wandb.ai/24mcs102-national-institute-of-technology-hamirpur/Ex-4-fashion-mnist-sweep/runs/r8q67cwb' target=\"_blank\">https://wandb.ai/24mcs102-national-institute-of-technology-hamirpur/Ex-4-fashion-mnist-sweep/runs/r8q67cwb</a>"
            ]
          },
          "metadata": {}
        },
        {
          "output_type": "stream",
          "name": "stdout",
          "text": [
            "Epoch 0: Training Loss = 2.1548, Validation Loss = 2.0702\n"
          ]
        },
        {
          "output_type": "display_data",
          "data": {
            "text/plain": [
              "<IPython.core.display.HTML object>"
            ],
            "text/html": []
          },
          "metadata": {}
        },
        {
          "output_type": "display_data",
          "data": {
            "text/plain": [
              "<IPython.core.display.HTML object>"
            ],
            "text/html": [
              "<br>    <style><br>        .wandb-row {<br>            display: flex;<br>            flex-direction: row;<br>            flex-wrap: wrap;<br>            justify-content: flex-start;<br>            width: 100%;<br>        }<br>        .wandb-col {<br>            display: flex;<br>            flex-direction: column;<br>            flex-basis: 100%;<br>            flex: 1;<br>            padding: 10px;<br>        }<br>    </style><br><div class=\"wandb-row\"><div class=\"wandb-col\"><h3>Run history:</h3><br/><table class=\"wandb\"><tr><td>Training Loss</td><td>▁█▅▅▇</td></tr><tr><td>Validation Loss</td><td>▆█▆▄▁</td></tr></table><br/></div><div class=\"wandb-col\"><h3>Run summary:</h3><br/><table class=\"wandb\"><tr><td>Final Training Loss</td><td>2.3013</td></tr><tr><td>Final Validation Loss</td><td>2.06447</td></tr><tr><td>Training Loss</td><td>2.3013</td></tr><tr><td>Validation Loss</td><td>2.06447</td></tr></table><br/></div></div>"
            ]
          },
          "metadata": {}
        },
        {
          "output_type": "display_data",
          "data": {
            "text/plain": [
              "<IPython.core.display.HTML object>"
            ],
            "text/html": [
              " View run <strong style=\"color:#cdcd00\">hl_2_bs_16_ac_ReLU</strong> at: <a href='https://wandb.ai/24mcs102-national-institute-of-technology-hamirpur/Ex-4-fashion-mnist-sweep/runs/r8q67cwb' target=\"_blank\">https://wandb.ai/24mcs102-national-institute-of-technology-hamirpur/Ex-4-fashion-mnist-sweep/runs/r8q67cwb</a><br> View project at: <a href='https://wandb.ai/24mcs102-national-institute-of-technology-hamirpur/Ex-4-fashion-mnist-sweep' target=\"_blank\">https://wandb.ai/24mcs102-national-institute-of-technology-hamirpur/Ex-4-fashion-mnist-sweep</a><br>Synced 5 W&B file(s), 1 media file(s), 0 artifact file(s) and 0 other file(s)"
            ]
          },
          "metadata": {}
        },
        {
          "output_type": "display_data",
          "data": {
            "text/plain": [
              "<IPython.core.display.HTML object>"
            ],
            "text/html": [
              "Find logs at: <code>./wandb/run-20250309_083948-r8q67cwb/logs</code>"
            ]
          },
          "metadata": {}
        },
        {
          "output_type": "display_data",
          "data": {
            "text/plain": [
              "<Figure size 800x500 with 1 Axes>"
            ],
            "image/png": "[encoded data removed]"
          },
          "metadata": {}
        },
        {
          "output_type": "display_data",
          "data": {
            "text/plain": [
              "<Figure size 800x500 with 1 Axes>"
            ],
            "image/png": "[encoded data removed]"
          },
          "metadata": {}
        },
        {
          "output_type": "display_data",
          "data": {
            "text/plain": [
              "<Figure size 800x500 with 1 Axes>"
            ],
            "image/png": "[encoded data removed]"
          },
          "metadata": {}
        },
        {
          "output_type": "display_data",
          "data": {
            "text/plain": [
              "<Figure size 800x500 with 1 Axes>"
            ],
            "image/png": "[encoded data removed]"
          },
          "metadata": {}
        },
        {
          "output_type": "display_data",
          "data": {
            "text/plain": [
              "<Figure size 800x500 with 1 Axes>"
            ],
            "image/png": "[encoded data removed]"
          },
          "metadata": {}
        }
      ]
    }
  ]
}